{
 "cells": [
  {
   "cell_type": "code",
   "execution_count": 38,
   "metadata": {},
   "outputs": [],
   "source": [
    "## Description: What are the causal factors behind hotel booking cancellations?\n",
    "# There are many reasons for a booking to be cancelled: a customer may request something that is unavailabile, a customer finds that the hotel does not satisfy their requirements, etc.\n",
    "\n",
    "## Source: DoWhy docs in https://www.pywhy.org/dowhy/v0.8/example_notebooks/DoWhy-The%20Causal%20Story%20Behind%20Hotel%20Booking%20Cancellations.html\n",
    "## Data Source: https://github.com/rfordatascience/tidytuesday/blob/master/data/2020/2020-02-11/readme.md\n"
   ]
  },
  {
   "cell_type": "code",
   "execution_count": 70,
   "metadata": {},
   "outputs": [],
   "source": [
    "import pandas as pd\n",
    "import numpy as np\n",
    "import statsmodels.formula.api as smf\n",
    "from sklearn.neighbors import KNeighborsRegressor\n",
    "from sklearn.linear_model import LogisticRegression\n",
    "from patsy import dmatrix\n",
    "from joblib import Parallel, delayed # for parallel processing\n",
    "from toolz import partial\n",
    "from dowhy import CausalModel\n",
    "import pygraphviz\n",
    "\n",
    "import warnings\n",
    "warnings.simplefilter(action='ignore', category=FutureWarning)"
   ]
  },
  {
   "cell_type": "code",
   "execution_count": 40,
   "metadata": {},
   "outputs": [
    {
     "data": {
      "text/html": [
       "<div>\n",
       "<style scoped>\n",
       "    .dataframe tbody tr th:only-of-type {\n",
       "        vertical-align: middle;\n",
       "    }\n",
       "\n",
       "    .dataframe tbody tr th {\n",
       "        vertical-align: top;\n",
       "    }\n",
       "\n",
       "    .dataframe thead th {\n",
       "        text-align: right;\n",
       "    }\n",
       "</style>\n",
       "<table border=\"1\" class=\"dataframe\">\n",
       "  <thead>\n",
       "    <tr style=\"text-align: right;\">\n",
       "      <th></th>\n",
       "      <th>hotel</th>\n",
       "      <th>is_canceled</th>\n",
       "      <th>lead_time</th>\n",
       "      <th>arrival_date_year</th>\n",
       "      <th>arrival_date_month</th>\n",
       "      <th>arrival_date_week_number</th>\n",
       "      <th>arrival_date_day_of_month</th>\n",
       "      <th>stays_in_weekend_nights</th>\n",
       "      <th>stays_in_week_nights</th>\n",
       "      <th>adults</th>\n",
       "      <th>...</th>\n",
       "      <th>deposit_type</th>\n",
       "      <th>agent</th>\n",
       "      <th>company</th>\n",
       "      <th>days_in_waiting_list</th>\n",
       "      <th>customer_type</th>\n",
       "      <th>adr</th>\n",
       "      <th>required_car_parking_spaces</th>\n",
       "      <th>total_of_special_requests</th>\n",
       "      <th>reservation_status</th>\n",
       "      <th>reservation_status_date</th>\n",
       "    </tr>\n",
       "  </thead>\n",
       "  <tbody>\n",
       "    <tr>\n",
       "      <th>0</th>\n",
       "      <td>Resort Hotel</td>\n",
       "      <td>0</td>\n",
       "      <td>342</td>\n",
       "      <td>2015</td>\n",
       "      <td>July</td>\n",
       "      <td>27</td>\n",
       "      <td>1</td>\n",
       "      <td>0</td>\n",
       "      <td>0</td>\n",
       "      <td>2</td>\n",
       "      <td>...</td>\n",
       "      <td>No Deposit</td>\n",
       "      <td>NaN</td>\n",
       "      <td>NaN</td>\n",
       "      <td>0</td>\n",
       "      <td>Transient</td>\n",
       "      <td>0.0</td>\n",
       "      <td>0</td>\n",
       "      <td>0</td>\n",
       "      <td>Check-Out</td>\n",
       "      <td>2015-07-01</td>\n",
       "    </tr>\n",
       "    <tr>\n",
       "      <th>1</th>\n",
       "      <td>Resort Hotel</td>\n",
       "      <td>0</td>\n",
       "      <td>737</td>\n",
       "      <td>2015</td>\n",
       "      <td>July</td>\n",
       "      <td>27</td>\n",
       "      <td>1</td>\n",
       "      <td>0</td>\n",
       "      <td>0</td>\n",
       "      <td>2</td>\n",
       "      <td>...</td>\n",
       "      <td>No Deposit</td>\n",
       "      <td>NaN</td>\n",
       "      <td>NaN</td>\n",
       "      <td>0</td>\n",
       "      <td>Transient</td>\n",
       "      <td>0.0</td>\n",
       "      <td>0</td>\n",
       "      <td>0</td>\n",
       "      <td>Check-Out</td>\n",
       "      <td>2015-07-01</td>\n",
       "    </tr>\n",
       "    <tr>\n",
       "      <th>2</th>\n",
       "      <td>Resort Hotel</td>\n",
       "      <td>0</td>\n",
       "      <td>7</td>\n",
       "      <td>2015</td>\n",
       "      <td>July</td>\n",
       "      <td>27</td>\n",
       "      <td>1</td>\n",
       "      <td>0</td>\n",
       "      <td>1</td>\n",
       "      <td>1</td>\n",
       "      <td>...</td>\n",
       "      <td>No Deposit</td>\n",
       "      <td>NaN</td>\n",
       "      <td>NaN</td>\n",
       "      <td>0</td>\n",
       "      <td>Transient</td>\n",
       "      <td>75.0</td>\n",
       "      <td>0</td>\n",
       "      <td>0</td>\n",
       "      <td>Check-Out</td>\n",
       "      <td>2015-07-02</td>\n",
       "    </tr>\n",
       "    <tr>\n",
       "      <th>3</th>\n",
       "      <td>Resort Hotel</td>\n",
       "      <td>0</td>\n",
       "      <td>13</td>\n",
       "      <td>2015</td>\n",
       "      <td>July</td>\n",
       "      <td>27</td>\n",
       "      <td>1</td>\n",
       "      <td>0</td>\n",
       "      <td>1</td>\n",
       "      <td>1</td>\n",
       "      <td>...</td>\n",
       "      <td>No Deposit</td>\n",
       "      <td>304.0</td>\n",
       "      <td>NaN</td>\n",
       "      <td>0</td>\n",
       "      <td>Transient</td>\n",
       "      <td>75.0</td>\n",
       "      <td>0</td>\n",
       "      <td>0</td>\n",
       "      <td>Check-Out</td>\n",
       "      <td>2015-07-02</td>\n",
       "    </tr>\n",
       "    <tr>\n",
       "      <th>4</th>\n",
       "      <td>Resort Hotel</td>\n",
       "      <td>0</td>\n",
       "      <td>14</td>\n",
       "      <td>2015</td>\n",
       "      <td>July</td>\n",
       "      <td>27</td>\n",
       "      <td>1</td>\n",
       "      <td>0</td>\n",
       "      <td>2</td>\n",
       "      <td>2</td>\n",
       "      <td>...</td>\n",
       "      <td>No Deposit</td>\n",
       "      <td>240.0</td>\n",
       "      <td>NaN</td>\n",
       "      <td>0</td>\n",
       "      <td>Transient</td>\n",
       "      <td>98.0</td>\n",
       "      <td>0</td>\n",
       "      <td>1</td>\n",
       "      <td>Check-Out</td>\n",
       "      <td>2015-07-03</td>\n",
       "    </tr>\n",
       "  </tbody>\n",
       "</table>\n",
       "<p>5 rows × 32 columns</p>\n",
       "</div>"
      ],
      "text/plain": [
       "          hotel  is_canceled  lead_time  arrival_date_year arrival_date_month  \\\n",
       "0  Resort Hotel            0        342               2015               July   \n",
       "1  Resort Hotel            0        737               2015               July   \n",
       "2  Resort Hotel            0          7               2015               July   \n",
       "3  Resort Hotel            0         13               2015               July   \n",
       "4  Resort Hotel            0         14               2015               July   \n",
       "\n",
       "   arrival_date_week_number  arrival_date_day_of_month  \\\n",
       "0                        27                          1   \n",
       "1                        27                          1   \n",
       "2                        27                          1   \n",
       "3                        27                          1   \n",
       "4                        27                          1   \n",
       "\n",
       "   stays_in_weekend_nights  stays_in_week_nights  adults  ...  deposit_type  \\\n",
       "0                        0                     0       2  ...    No Deposit   \n",
       "1                        0                     0       2  ...    No Deposit   \n",
       "2                        0                     1       1  ...    No Deposit   \n",
       "3                        0                     1       1  ...    No Deposit   \n",
       "4                        0                     2       2  ...    No Deposit   \n",
       "\n",
       "   agent company days_in_waiting_list customer_type   adr  \\\n",
       "0    NaN     NaN                    0     Transient   0.0   \n",
       "1    NaN     NaN                    0     Transient   0.0   \n",
       "2    NaN     NaN                    0     Transient  75.0   \n",
       "3  304.0     NaN                    0     Transient  75.0   \n",
       "4  240.0     NaN                    0     Transient  98.0   \n",
       "\n",
       "   required_car_parking_spaces  total_of_special_requests  reservation_status  \\\n",
       "0                            0                          0           Check-Out   \n",
       "1                            0                          0           Check-Out   \n",
       "2                            0                          0           Check-Out   \n",
       "3                            0                          0           Check-Out   \n",
       "4                            0                          1           Check-Out   \n",
       "\n",
       "  reservation_status_date  \n",
       "0              2015-07-01  \n",
       "1              2015-07-01  \n",
       "2              2015-07-02  \n",
       "3              2015-07-02  \n",
       "4              2015-07-03  \n",
       "\n",
       "[5 rows x 32 columns]"
      ]
     },
     "execution_count": 40,
     "metadata": {},
     "output_type": "execute_result"
    }
   ],
   "source": [
    "# Response variable is the total spend at the end of the year (rewards program started Jan 2019)\n",
    "# Creating some simulated data for our example\n",
    "\n",
    "dataset = pd.read_csv('https://raw.githubusercontent.com/Sid-darthvader/DoWhy-The-Causal-Story-Behind-Hotel-Booking-Cancellations/master/hotel_bookings.csv')\n",
    "dataset.head()"
   ]
  },
  {
   "cell_type": "code",
   "execution_count": 41,
   "metadata": {},
   "outputs": [
    {
     "data": {
      "image/png": "[encoded data removed]",
      "text/latex": [
       "$\\displaystyle \\left( 119390, \\  32\\right)$"
      ],
      "text/plain": [
       "(119390, 32)"
      ]
     },
     "execution_count": 41,
     "metadata": {},
     "output_type": "execute_result"
    }
   ],
   "source": [
    "dataset.shape"
   ]
  },
  {
   "cell_type": "code",
   "execution_count": 42,
   "metadata": {},
   "outputs": [
    {
     "data": {
      "text/plain": [
       "Index(['hotel', 'is_canceled', 'lead_time', 'arrival_date_year',\n",
       "       'arrival_date_month', 'arrival_date_week_number',\n",
       "       'arrival_date_day_of_month', 'stays_in_weekend_nights',\n",
       "       'stays_in_week_nights', 'adults', 'children', 'babies', 'meal',\n",
       "       'country', 'market_segment', 'distribution_channel',\n",
       "       'is_repeated_guest', 'previous_cancellations',\n",
       "       'previous_bookings_not_canceled', 'reserved_room_type',\n",
       "       'assigned_room_type', 'booking_changes', 'deposit_type', 'agent',\n",
       "       'company', 'days_in_waiting_list', 'customer_type', 'adr',\n",
       "       'required_car_parking_spaces', 'total_of_special_requests',\n",
       "       'reservation_status', 'reservation_status_date'],\n",
       "      dtype='object')"
      ]
     },
     "execution_count": 42,
     "metadata": {},
     "output_type": "execute_result"
    }
   ],
   "source": [
    "dataset.columns"
   ]
  },
  {
   "cell_type": "markdown",
   "metadata": {},
   "source": [
    "### Feature Engineering"
   ]
  },
  {
   "cell_type": "markdown",
   "metadata": {},
   "source": [
    "Dimension reduction, data imputation, new feature creation"
   ]
  },
  {
   "cell_type": "code",
   "execution_count": 43,
   "metadata": {},
   "outputs": [
    {
     "data": {
      "text/plain": [
       "Index(['hotel', 'is_canceled', 'lead_time', 'arrival_date_year',\n",
       "       'arrival_date_month', 'arrival_date_week_number',\n",
       "       'arrival_date_day_of_month', 'meal', 'country', 'market_segment',\n",
       "       'distribution_channel', 'is_repeated_guest', 'previous_cancellations',\n",
       "       'previous_bookings_not_canceled', 'booking_changes', 'deposit_type',\n",
       "       'agent', 'company', 'days_in_waiting_list', 'customer_type', 'adr',\n",
       "       'required_car_parking_spaces', 'total_of_special_requests',\n",
       "       'reservation_status', 'reservation_status_date', 'total_stay', 'guests',\n",
       "       'different_room_assigned'],\n",
       "      dtype='object')"
      ]
     },
     "execution_count": 43,
     "metadata": {},
     "output_type": "execute_result"
    }
   ],
   "source": [
    "# Total stay in nights\n",
    "dataset['total_stay'] = dataset['stays_in_week_nights'] + dataset['stays_in_weekend_nights']\n",
    "\n",
    "# Total number of guests\n",
    "dataset['guests'] = dataset['adults']+dataset['children'] + dataset['babies']\n",
    "\n",
    "# Creating the different_room_assigned feature\n",
    "dataset['different_room_assigned']=0\n",
    "slice_indices = dataset['reserved_room_type'] != dataset['assigned_room_type']\n",
    "dataset.loc[slice_indices,'different_room_assigned'] = 1\n",
    "\n",
    "# Deleting older features\n",
    "dataset = dataset.drop(['stays_in_week_nights','stays_in_weekend_nights','adults','children','babies'\n",
    "                        ,'reserved_room_type','assigned_room_type'],axis=1)\n",
    "\n",
    "dataset.columns"
   ]
  },
  {
   "cell_type": "code",
   "execution_count": 44,
   "metadata": {},
   "outputs": [],
   "source": [
    "dataset.isnull().sum() # Country,Agent,Company contain 488,16340,112593 missing entries\n",
    "dataset = dataset.drop(['agent','company'],axis=1)\n",
    "\n",
    "# Replacing missing countries with most freqently occuring countries\n",
    "dataset['country']= dataset['country'].fillna(dataset['country'].mode()[0])"
   ]
  },
  {
   "cell_type": "code",
   "execution_count": 45,
   "metadata": {},
   "outputs": [],
   "source": [
    "dataset = dataset.drop(['reservation_status','reservation_status_date','arrival_date_day_of_month'],axis=1)\n",
    "dataset = dataset.drop(['arrival_date_year'],axis=1)\n",
    "dataset = dataset.drop(['distribution_channel'], axis=1) # high overlap with market_segment"
   ]
  },
  {
   "cell_type": "code",
   "execution_count": 46,
   "metadata": {},
   "outputs": [
    {
     "name": "stdout",
     "output_type": "stream",
     "text": [
      "Index(['hotel', 'is_canceled', 'lead_time', 'arrival_date_month',\n",
      "       'arrival_date_week_number', 'meal', 'country', 'market_segment',\n",
      "       'is_repeated_guest', 'previous_cancellations',\n",
      "       'previous_bookings_not_canceled', 'booking_changes', 'deposit_type',\n",
      "       'days_in_waiting_list', 'customer_type', 'adr',\n",
      "       'required_car_parking_spaces', 'total_of_special_requests',\n",
      "       'total_stay', 'guests', 'different_room_assigned'],\n",
      "      dtype='object')\n"
     ]
    }
   ],
   "source": [
    "# Replacing 1 by True and 0 by False for the experiment and outcome variables\n",
    "dataset['different_room_assigned'] = dataset['different_room_assigned'].replace(1,True)\n",
    "dataset['different_room_assigned'] = dataset['different_room_assigned'].replace(0,False)\n",
    "\n",
    "dataset['is_canceled'] = dataset['is_canceled'].replace(1,True)\n",
    "dataset['is_canceled'] = dataset['is_canceled'].replace(0,False)\n",
    "\n",
    "dataset.dropna(inplace=True)\n",
    "print(dataset.columns)"
   ]
  },
  {
   "cell_type": "code",
   "execution_count": 47,
   "metadata": {},
   "outputs": [
    {
     "data": {
      "text/html": [
       "<div>\n",
       "<style scoped>\n",
       "    .dataframe tbody tr th:only-of-type {\n",
       "        vertical-align: middle;\n",
       "    }\n",
       "\n",
       "    .dataframe tbody tr th {\n",
       "        vertical-align: top;\n",
       "    }\n",
       "\n",
       "    .dataframe thead th {\n",
       "        text-align: right;\n",
       "    }\n",
       "</style>\n",
       "<table border=\"1\" class=\"dataframe\">\n",
       "  <thead>\n",
       "    <tr style=\"text-align: right;\">\n",
       "      <th></th>\n",
       "      <th>meal</th>\n",
       "      <th>country</th>\n",
       "      <th>market_segment</th>\n",
       "      <th>is_repeated_guest</th>\n",
       "      <th>previous_cancellations</th>\n",
       "      <th>previous_bookings_not_canceled</th>\n",
       "      <th>booking_changes</th>\n",
       "      <th>deposit_type</th>\n",
       "      <th>days_in_waiting_list</th>\n",
       "      <th>customer_type</th>\n",
       "      <th>adr</th>\n",
       "      <th>required_car_parking_spaces</th>\n",
       "      <th>total_of_special_requests</th>\n",
       "      <th>total_stay</th>\n",
       "      <th>guests</th>\n",
       "    </tr>\n",
       "  </thead>\n",
       "  <tbody>\n",
       "    <tr>\n",
       "      <th>0</th>\n",
       "      <td>BB</td>\n",
       "      <td>PRT</td>\n",
       "      <td>Direct</td>\n",
       "      <td>0</td>\n",
       "      <td>0</td>\n",
       "      <td>0</td>\n",
       "      <td>3</td>\n",
       "      <td>No Deposit</td>\n",
       "      <td>0</td>\n",
       "      <td>Transient</td>\n",
       "      <td>0.00</td>\n",
       "      <td>0</td>\n",
       "      <td>0</td>\n",
       "      <td>0</td>\n",
       "      <td>2.0</td>\n",
       "    </tr>\n",
       "    <tr>\n",
       "      <th>1</th>\n",
       "      <td>BB</td>\n",
       "      <td>PRT</td>\n",
       "      <td>Direct</td>\n",
       "      <td>0</td>\n",
       "      <td>0</td>\n",
       "      <td>0</td>\n",
       "      <td>4</td>\n",
       "      <td>No Deposit</td>\n",
       "      <td>0</td>\n",
       "      <td>Transient</td>\n",
       "      <td>0.00</td>\n",
       "      <td>0</td>\n",
       "      <td>0</td>\n",
       "      <td>0</td>\n",
       "      <td>2.0</td>\n",
       "    </tr>\n",
       "    <tr>\n",
       "      <th>2</th>\n",
       "      <td>BB</td>\n",
       "      <td>GBR</td>\n",
       "      <td>Direct</td>\n",
       "      <td>0</td>\n",
       "      <td>0</td>\n",
       "      <td>0</td>\n",
       "      <td>0</td>\n",
       "      <td>No Deposit</td>\n",
       "      <td>0</td>\n",
       "      <td>Transient</td>\n",
       "      <td>75.00</td>\n",
       "      <td>0</td>\n",
       "      <td>0</td>\n",
       "      <td>1</td>\n",
       "      <td>1.0</td>\n",
       "    </tr>\n",
       "    <tr>\n",
       "      <th>3</th>\n",
       "      <td>BB</td>\n",
       "      <td>GBR</td>\n",
       "      <td>Corporate</td>\n",
       "      <td>0</td>\n",
       "      <td>0</td>\n",
       "      <td>0</td>\n",
       "      <td>0</td>\n",
       "      <td>No Deposit</td>\n",
       "      <td>0</td>\n",
       "      <td>Transient</td>\n",
       "      <td>75.00</td>\n",
       "      <td>0</td>\n",
       "      <td>0</td>\n",
       "      <td>1</td>\n",
       "      <td>1.0</td>\n",
       "    </tr>\n",
       "    <tr>\n",
       "      <th>4</th>\n",
       "      <td>BB</td>\n",
       "      <td>GBR</td>\n",
       "      <td>Online TA</td>\n",
       "      <td>0</td>\n",
       "      <td>0</td>\n",
       "      <td>0</td>\n",
       "      <td>0</td>\n",
       "      <td>No Deposit</td>\n",
       "      <td>0</td>\n",
       "      <td>Transient</td>\n",
       "      <td>98.00</td>\n",
       "      <td>0</td>\n",
       "      <td>1</td>\n",
       "      <td>2</td>\n",
       "      <td>2.0</td>\n",
       "    </tr>\n",
       "    <tr>\n",
       "      <th>...</th>\n",
       "      <td>...</td>\n",
       "      <td>...</td>\n",
       "      <td>...</td>\n",
       "      <td>...</td>\n",
       "      <td>...</td>\n",
       "      <td>...</td>\n",
       "      <td>...</td>\n",
       "      <td>...</td>\n",
       "      <td>...</td>\n",
       "      <td>...</td>\n",
       "      <td>...</td>\n",
       "      <td>...</td>\n",
       "      <td>...</td>\n",
       "      <td>...</td>\n",
       "      <td>...</td>\n",
       "    </tr>\n",
       "    <tr>\n",
       "      <th>95</th>\n",
       "      <td>BB</td>\n",
       "      <td>PRT</td>\n",
       "      <td>Online TA</td>\n",
       "      <td>0</td>\n",
       "      <td>0</td>\n",
       "      <td>0</td>\n",
       "      <td>0</td>\n",
       "      <td>No Deposit</td>\n",
       "      <td>0</td>\n",
       "      <td>Transient</td>\n",
       "      <td>73.80</td>\n",
       "      <td>0</td>\n",
       "      <td>1</td>\n",
       "      <td>2</td>\n",
       "      <td>2.0</td>\n",
       "    </tr>\n",
       "    <tr>\n",
       "      <th>96</th>\n",
       "      <td>BB</td>\n",
       "      <td>PRT</td>\n",
       "      <td>Online TA</td>\n",
       "      <td>0</td>\n",
       "      <td>0</td>\n",
       "      <td>0</td>\n",
       "      <td>0</td>\n",
       "      <td>No Deposit</td>\n",
       "      <td>0</td>\n",
       "      <td>Transient</td>\n",
       "      <td>117.00</td>\n",
       "      <td>0</td>\n",
       "      <td>1</td>\n",
       "      <td>7</td>\n",
       "      <td>2.0</td>\n",
       "    </tr>\n",
       "    <tr>\n",
       "      <th>97</th>\n",
       "      <td>HB</td>\n",
       "      <td>ESP</td>\n",
       "      <td>Offline TA/TO</td>\n",
       "      <td>0</td>\n",
       "      <td>0</td>\n",
       "      <td>0</td>\n",
       "      <td>0</td>\n",
       "      <td>No Deposit</td>\n",
       "      <td>0</td>\n",
       "      <td>Transient</td>\n",
       "      <td>196.54</td>\n",
       "      <td>0</td>\n",
       "      <td>1</td>\n",
       "      <td>7</td>\n",
       "      <td>3.0</td>\n",
       "    </tr>\n",
       "    <tr>\n",
       "      <th>98</th>\n",
       "      <td>BB</td>\n",
       "      <td>PRT</td>\n",
       "      <td>Online TA</td>\n",
       "      <td>0</td>\n",
       "      <td>0</td>\n",
       "      <td>0</td>\n",
       "      <td>0</td>\n",
       "      <td>No Deposit</td>\n",
       "      <td>0</td>\n",
       "      <td>Transient</td>\n",
       "      <td>99.30</td>\n",
       "      <td>1</td>\n",
       "      <td>2</td>\n",
       "      <td>7</td>\n",
       "      <td>3.0</td>\n",
       "    </tr>\n",
       "    <tr>\n",
       "      <th>99</th>\n",
       "      <td>BB</td>\n",
       "      <td>DEU</td>\n",
       "      <td>Direct</td>\n",
       "      <td>0</td>\n",
       "      <td>0</td>\n",
       "      <td>0</td>\n",
       "      <td>0</td>\n",
       "      <td>No Deposit</td>\n",
       "      <td>0</td>\n",
       "      <td>Transient</td>\n",
       "      <td>90.95</td>\n",
       "      <td>0</td>\n",
       "      <td>0</td>\n",
       "      <td>7</td>\n",
       "      <td>2.0</td>\n",
       "    </tr>\n",
       "  </tbody>\n",
       "</table>\n",
       "<p>100 rows × 15 columns</p>\n",
       "</div>"
      ],
      "text/plain": [
       "   meal country market_segment  is_repeated_guest  previous_cancellations  \\\n",
       "0    BB     PRT         Direct                  0                       0   \n",
       "1    BB     PRT         Direct                  0                       0   \n",
       "2    BB     GBR         Direct                  0                       0   \n",
       "3    BB     GBR      Corporate                  0                       0   \n",
       "4    BB     GBR      Online TA                  0                       0   \n",
       "..  ...     ...            ...                ...                     ...   \n",
       "95   BB     PRT      Online TA                  0                       0   \n",
       "96   BB     PRT      Online TA                  0                       0   \n",
       "97   HB     ESP  Offline TA/TO                  0                       0   \n",
       "98   BB     PRT      Online TA                  0                       0   \n",
       "99   BB     DEU         Direct                  0                       0   \n",
       "\n",
       "    previous_bookings_not_canceled  booking_changes deposit_type  \\\n",
       "0                                0                3   No Deposit   \n",
       "1                                0                4   No Deposit   \n",
       "2                                0                0   No Deposit   \n",
       "3                                0                0   No Deposit   \n",
       "4                                0                0   No Deposit   \n",
       "..                             ...              ...          ...   \n",
       "95                               0                0   No Deposit   \n",
       "96                               0                0   No Deposit   \n",
       "97                               0                0   No Deposit   \n",
       "98                               0                0   No Deposit   \n",
       "99                               0                0   No Deposit   \n",
       "\n",
       "    days_in_waiting_list customer_type     adr  required_car_parking_spaces  \\\n",
       "0                      0     Transient    0.00                            0   \n",
       "1                      0     Transient    0.00                            0   \n",
       "2                      0     Transient   75.00                            0   \n",
       "3                      0     Transient   75.00                            0   \n",
       "4                      0     Transient   98.00                            0   \n",
       "..                   ...           ...     ...                          ...   \n",
       "95                     0     Transient   73.80                            0   \n",
       "96                     0     Transient  117.00                            0   \n",
       "97                     0     Transient  196.54                            0   \n",
       "98                     0     Transient   99.30                            1   \n",
       "99                     0     Transient   90.95                            0   \n",
       "\n",
       "    total_of_special_requests  total_stay  guests  \n",
       "0                           0           0     2.0  \n",
       "1                           0           0     2.0  \n",
       "2                           0           1     1.0  \n",
       "3                           0           1     1.0  \n",
       "4                           1           2     2.0  \n",
       "..                        ...         ...     ...  \n",
       "95                          1           2     2.0  \n",
       "96                          1           7     2.0  \n",
       "97                          1           7     3.0  \n",
       "98                          2           7     3.0  \n",
       "99                          0           7     2.0  \n",
       "\n",
       "[100 rows x 15 columns]"
      ]
     },
     "execution_count": 47,
     "metadata": {},
     "output_type": "execute_result"
    }
   ],
   "source": [
    "dataset.iloc[:, 5:20].head(100)"
   ]
  },
  {
   "cell_type": "code",
   "execution_count": 48,
   "metadata": {},
   "outputs": [
    {
     "data": {
      "text/html": [
       "<div>\n",
       "<style scoped>\n",
       "    .dataframe tbody tr th:only-of-type {\n",
       "        vertical-align: middle;\n",
       "    }\n",
       "\n",
       "    .dataframe tbody tr th {\n",
       "        vertical-align: top;\n",
       "    }\n",
       "\n",
       "    .dataframe thead th {\n",
       "        text-align: right;\n",
       "    }\n",
       "</style>\n",
       "<table border=\"1\" class=\"dataframe\">\n",
       "  <thead>\n",
       "    <tr style=\"text-align: right;\">\n",
       "      <th></th>\n",
       "      <th></th>\n",
       "      <th>hotel</th>\n",
       "      <th>lead_time</th>\n",
       "      <th>arrival_date_month</th>\n",
       "      <th>arrival_date_week_number</th>\n",
       "      <th>meal</th>\n",
       "      <th>country</th>\n",
       "      <th>market_segment</th>\n",
       "      <th>is_repeated_guest</th>\n",
       "      <th>previous_cancellations</th>\n",
       "      <th>previous_bookings_not_canceled</th>\n",
       "      <th>booking_changes</th>\n",
       "      <th>days_in_waiting_list</th>\n",
       "      <th>customer_type</th>\n",
       "      <th>adr</th>\n",
       "      <th>required_car_parking_spaces</th>\n",
       "      <th>total_of_special_requests</th>\n",
       "      <th>total_stay</th>\n",
       "      <th>guests</th>\n",
       "      <th>different_room_assigned</th>\n",
       "    </tr>\n",
       "    <tr>\n",
       "      <th>deposit_type</th>\n",
       "      <th>is_canceled</th>\n",
       "      <th></th>\n",
       "      <th></th>\n",
       "      <th></th>\n",
       "      <th></th>\n",
       "      <th></th>\n",
       "      <th></th>\n",
       "      <th></th>\n",
       "      <th></th>\n",
       "      <th></th>\n",
       "      <th></th>\n",
       "      <th></th>\n",
       "      <th></th>\n",
       "      <th></th>\n",
       "      <th></th>\n",
       "      <th></th>\n",
       "      <th></th>\n",
       "      <th></th>\n",
       "      <th></th>\n",
       "      <th></th>\n",
       "    </tr>\n",
       "  </thead>\n",
       "  <tbody>\n",
       "    <tr>\n",
       "      <th rowspan=\"2\" valign=\"top\">No Deposit</th>\n",
       "      <th>False</th>\n",
       "      <td>74947</td>\n",
       "      <td>74947</td>\n",
       "      <td>74947</td>\n",
       "      <td>74947</td>\n",
       "      <td>74947</td>\n",
       "      <td>74947</td>\n",
       "      <td>74947</td>\n",
       "      <td>74947</td>\n",
       "      <td>74947</td>\n",
       "      <td>74947</td>\n",
       "      <td>74947</td>\n",
       "      <td>74947</td>\n",
       "      <td>74947</td>\n",
       "      <td>74947</td>\n",
       "      <td>74947</td>\n",
       "      <td>74947</td>\n",
       "      <td>74947</td>\n",
       "      <td>74947</td>\n",
       "      <td>74947</td>\n",
       "    </tr>\n",
       "    <tr>\n",
       "      <th>True</th>\n",
       "      <td>29690</td>\n",
       "      <td>29690</td>\n",
       "      <td>29690</td>\n",
       "      <td>29690</td>\n",
       "      <td>29690</td>\n",
       "      <td>29690</td>\n",
       "      <td>29690</td>\n",
       "      <td>29690</td>\n",
       "      <td>29690</td>\n",
       "      <td>29690</td>\n",
       "      <td>29690</td>\n",
       "      <td>29690</td>\n",
       "      <td>29690</td>\n",
       "      <td>29690</td>\n",
       "      <td>29690</td>\n",
       "      <td>29690</td>\n",
       "      <td>29690</td>\n",
       "      <td>29690</td>\n",
       "      <td>29690</td>\n",
       "    </tr>\n",
       "  </tbody>\n",
       "</table>\n",
       "</div>"
      ],
      "text/plain": [
       "                          hotel  lead_time  arrival_date_month  \\\n",
       "deposit_type is_canceled                                         \n",
       "No Deposit   False        74947      74947               74947   \n",
       "             True         29690      29690               29690   \n",
       "\n",
       "                          arrival_date_week_number   meal  country  \\\n",
       "deposit_type is_canceled                                             \n",
       "No Deposit   False                           74947  74947    74947   \n",
       "             True                            29690  29690    29690   \n",
       "\n",
       "                          market_segment  is_repeated_guest  \\\n",
       "deposit_type is_canceled                                      \n",
       "No Deposit   False                 74947              74947   \n",
       "             True                  29690              29690   \n",
       "\n",
       "                          previous_cancellations  \\\n",
       "deposit_type is_canceled                           \n",
       "No Deposit   False                         74947   \n",
       "             True                          29690   \n",
       "\n",
       "                          previous_bookings_not_canceled  booking_changes  \\\n",
       "deposit_type is_canceled                                                    \n",
       "No Deposit   False                                 74947            74947   \n",
       "             True                                  29690            29690   \n",
       "\n",
       "                          days_in_waiting_list  customer_type    adr  \\\n",
       "deposit_type is_canceled                                               \n",
       "No Deposit   False                       74947          74947  74947   \n",
       "             True                        29690          29690  29690   \n",
       "\n",
       "                          required_car_parking_spaces  \\\n",
       "deposit_type is_canceled                                \n",
       "No Deposit   False                              74947   \n",
       "             True                               29690   \n",
       "\n",
       "                          total_of_special_requests  total_stay  guests  \\\n",
       "deposit_type is_canceled                                                  \n",
       "No Deposit   False                            74947       74947   74947   \n",
       "             True                             29690       29690   29690   \n",
       "\n",
       "                          different_room_assigned  \n",
       "deposit_type is_canceled                           \n",
       "No Deposit   False                          74947  \n",
       "             True                           29690  "
      ]
     },
     "execution_count": 48,
     "metadata": {},
     "output_type": "execute_result"
    }
   ],
   "source": [
    "dataset = dataset[dataset.deposit_type==\"No Deposit\"]\n",
    "dataset.groupby(['deposit_type','is_canceled']).count()"
   ]
  },
  {
   "cell_type": "code",
   "execution_count": 49,
   "metadata": {},
   "outputs": [],
   "source": [
    "dataset_copy = dataset.copy(deep=True)"
   ]
  },
  {
   "cell_type": "markdown",
   "metadata": {},
   "source": [
    "### Exploratory Data Analysis"
   ]
  },
  {
   "cell_type": "code",
   "execution_count": 50,
   "metadata": {},
   "outputs": [
    {
     "data": {
      "image/png": "[encoded data removed]",
      "text/latex": [
       "$\\displaystyle 588.6318$"
      ],
      "text/plain": [
       "588.6318"
      ]
     },
     "execution_count": 50,
     "metadata": {},
     "output_type": "execute_result"
    }
   ],
   "source": [
    "# Run a simulation 10,000 times on a sample of 1,000\n",
    "# There is near 50% chance of is_canceled and different_room_assigned being both true or false\n",
    "# Assigning rooms different to what a customer had reserved during his booking earlier, may or may not lead to him cancelling that booking\n",
    "counts_sum = 0\n",
    "for i in range(1,10000):\n",
    "        counts_i = 0\n",
    "        rdf = dataset.sample(1000)\n",
    "        counts_i = rdf[rdf[\"is_canceled\"] == rdf[\"different_room_assigned\"]].shape[0]\n",
    "        counts_sum += counts_i\n",
    "        \n",
    "counts_sum/10000"
   ]
  },
  {
   "cell_type": "code",
   "execution_count": 51,
   "metadata": {},
   "outputs": [
    {
     "data": {
      "image/png": "[encoded data removed]",
      "text/latex": [
       "$\\displaystyle 572.4625$"
      ],
      "text/plain": [
       "572.4625"
      ]
     },
     "execution_count": 51,
     "metadata": {},
     "output_type": "execute_result"
    }
   ],
   "source": [
    "# Expected Count when there are no booking changes\n",
    "counts_sum=0\n",
    "for i in range(1,10000):\n",
    "        counts_i = 0\n",
    "        rdf = dataset[dataset[\"booking_changes\"] == 0].sample(1000)\n",
    "        counts_i = rdf[rdf[\"is_canceled\"] == rdf[\"different_room_assigned\"]].shape[0]\n",
    "        counts_sum+= counts_i\n",
    "\n",
    "counts_sum/10000"
   ]
  },
  {
   "cell_type": "code",
   "execution_count": 52,
   "metadata": {},
   "outputs": [
    {
     "data": {
      "image/png": "[encoded data removed]",
      "text/latex": [
       "$\\displaystyle 665.8092$"
      ],
      "text/plain": [
       "665.8092"
      ]
     },
     "execution_count": 52,
     "metadata": {},
     "output_type": "execute_result"
    }
   ],
   "source": [
    "# Expected Count when there are booking changes (> 0) = 66.4%\n",
    "# Indicates that booking changes may effect room cancellations when different rooms was assigned (when is_canceled = different_room_assigned)\n",
    "# was not cancelled with no reassignment of rooms or was cancelled with reassignment of rooms\n",
    "counts_sum=0\n",
    "for i in range(1,10000):\n",
    "        counts_i = 0\n",
    "        rdf = dataset[dataset[\"booking_changes\"] > 0].sample(1000)\n",
    "        counts_i = rdf[rdf[\"is_canceled\"] == rdf[\"different_room_assigned\"]].shape[0]\n",
    "        counts_sum+= counts_i\n",
    "\n",
    "counts_sum/10000"
   ]
  },
  {
   "cell_type": "markdown",
   "metadata": {},
   "source": [
    "### DoWhy: Graphical Causal Model Model based Inference"
   ]
  },
  {
   "cell_type": "markdown",
   "metadata": {},
   "source": [
    "Represent prior knowledge about the modeling problem with a DAG:\n",
    "\n",
    "Market Segment has 2 levels, “TA” refers to the “Travel Agents” and “TO” means “Tour Operators” so it should affect the Lead Time (which is simply the number of days between booking and arrival).\n",
    "\n",
    "Country would also play a role in deciding whether a person books early or not (hence more Lead Time) and what type of Meal a person would prefer.\n",
    "\n",
    "Lead Time would definitely affect the number of Days in Waitlist (There are lesser chances of finding a reservation if you’re booking late). Additionally, higher Lead Times can also lead to Cancellations.\n",
    "\n",
    "The number of Days in Waitlist, the Total Stay in nights and the number of Guests might affect whether the booking is cancelled or retained.\n",
    "\n",
    "Previous Booking Retentions would affect whether a customer is a repeat guest or not. Additionally, both of these variables would affect whether the booking get cancelled or not (Ex- A customer who has retained his past 5 bookings in the past has a higher chance of retaining this one also. Similarly a person who has been cancelling this booking has a higher chance of repeating the same).\n",
    "\n",
    "Booking Changes would affect whether the customer is assigned a different room or not which might also lead to cancellation.\n"
   ]
  },
  {
   "cell_type": "code",
   "execution_count": 53,
   "metadata": {},
   "outputs": [],
   "source": [
    "causal_graph = \"\"\"digraph {\n",
    "different_room_assigned[label=\"Different Room Assigned\"];\n",
    "is_canceled[label=\"Booking Cancelled\"];\n",
    "booking_changes[label=\"Booking Changes\"];\n",
    "previous_bookings_not_canceled[label=\"Previous Booking Retentions\"];\n",
    "days_in_waiting_list[label=\"Days in Waitlist\"];\n",
    "lead_time[label=\"Lead Time\"];\n",
    "market_segment[label=\"Market Segment\"];\n",
    "country[label=\"Country\"];\n",
    "U[label=\"Unobserved Confounders\",observed=\"no\"];\n",
    "is_repeated_guest;\n",
    "total_stay;\n",
    "guests;\n",
    "meal;\n",
    "hotel;\n",
    "U->{different_room_assigned,required_car_parking_spaces,guests,total_stay,total_of_special_requests};\n",
    "market_segment -> lead_time;\n",
    "lead_time->is_canceled; \n",
    "country -> lead_time;\n",
    "different_room_assigned -> is_canceled;\n",
    "country->meal;\n",
    "lead_time -> days_in_waiting_list;\n",
    "days_in_waiting_list ->{is_canceled,different_room_assigned};\n",
    "previous_bookings_not_canceled -> is_canceled;\n",
    "previous_bookings_not_canceled -> is_repeated_guest;\n",
    "is_repeated_guest -> {different_room_assigned,is_canceled};\n",
    "total_stay -> is_canceled;\n",
    "guests -> is_canceled;\n",
    "booking_changes -> different_room_assigned; \n",
    "booking_changes -> is_canceled;\n",
    "hotel -> {different_room_assigned,is_canceled};\n",
    "required_car_parking_spaces -> is_canceled;\n",
    "total_of_special_requests -> {booking_changes,is_canceled};\n",
    "country->{hotel, required_car_parking_spaces,total_of_special_requests};\n",
    "market_segment->{hotel, required_car_parking_spaces,total_of_special_requests};\n",
    "}\"\"\""
   ]
  },
  {
   "cell_type": "code",
   "execution_count": 54,
   "metadata": {},
   "outputs": [
    {
     "name": "stderr",
     "output_type": "stream",
     "text": [
      "c:\\Users\\arsep\\anaconda3\\envs\\ds1\\Lib\\site-packages\\dowhy\\causal_model.py:582: UserWarning: 1 variables are assumed unobserved because they are not in the dataset. Configure the logging level to `logging.WARNING` or higher for additional details.\n",
      "  warnings.warn(\n"
     ]
    },
    {
     "data": {
      "image/png": "[encoded data removed]",
      "text/plain": [
       "<Figure size 800x600 with 1 Axes>"
      ]
     },
     "metadata": {},
     "output_type": "display_data"
    }
   ],
   "source": [
    "# Treatment = Assigning the same room reserved by the customer during the booking\n",
    "# Outcome/Response = Booking was cancelled or not\n",
    "model = CausalModel(\n",
    "        data = dataset,\n",
    "        graph = causal_graph.replace(\"\\n\", \" \"),\n",
    "        treatment = \"different_room_assigned\",\n",
    "        outcome = 'is_canceled')\n",
    "\n",
    "model.view_model()"
   ]
  },
  {
   "cell_type": "code",
   "execution_count": 55,
   "metadata": {},
   "outputs": [
    {
     "name": "stdout",
     "output_type": "stream",
     "text": [
      "Estimand type: EstimandType.NONPARAMETRIC_ATE\n",
      "\n",
      "### Estimand : 1\n",
      "Estimand name: backdoor\n",
      "Estimand expression:\n",
      "            d                                                                 \n",
      "──────────────────────────(E[is_canceled|guests,is_repeated_guest,days_in_wait\n",
      "d[different_room_assigned]                                                    \n",
      "\n",
      "                                                                              \n",
      "ing_list,lead_time,booking_changes,total_stay,total_of_special_requests,hotel,\n",
      "                                                                              \n",
      "\n",
      "                             \n",
      "required_car_parking_spaces])\n",
      "                             \n",
      "Estimand assumption 1, Unconfoundedness: If U→{different_room_assigned} and U→is_canceled then P(is_canceled|different_room_assigned,guests,is_repeated_guest,days_in_waiting_list,lead_time,booking_changes,total_stay,total_of_special_requests,hotel,required_car_parking_spaces,U) = P(is_canceled|different_room_assigned,guests,is_repeated_guest,days_in_waiting_list,lead_time,booking_changes,total_stay,total_of_special_requests,hotel,required_car_parking_spaces)\n",
      "\n",
      "### Estimand : 2\n",
      "Estimand name: iv\n",
      "No such variable(s) found!\n",
      "\n",
      "### Estimand : 3\n",
      "Estimand name: frontdoor\n",
      "No such variable(s) found!\n",
      "\n"
     ]
    }
   ],
   "source": [
    "# Identify the causal effect\n",
    "identified_estimand = model.identify_effect(proceed_when_unidentifiable=True)\n",
    "print(identified_estimand)"
   ]
  },
  {
   "cell_type": "markdown",
   "metadata": {},
   "source": [
    "ATE = Average Treatment Effect </br>\n",
    "ATT = Average Treatment Effect on Treated (i.e., those who were assigned a different room) </br>\n",
    "ATC = Average Treatment Effect on Control (i.e., those who were not assigned a different room) </br>"
   ]
  },
  {
   "cell_type": "markdown",
   "metadata": {},
   "source": [
    "#### Distance Matching"
   ]
  },
  {
   "cell_type": "code",
   "execution_count": 56,
   "metadata": {},
   "outputs": [
    {
     "name": "stdout",
     "output_type": "stream",
     "text": [
      "Distance Matching ATE: -0.2674\n"
     ]
    }
   ],
   "source": [
    "causal_estimate_dmatch  = model.estimate_effect(\n",
    "    identified_estimand=identified_estimand,\n",
    "    method_name='backdoor.distance_matching',\n",
    "    target_units='ate',\n",
    "    method_params={'distance_metric': 'minkowski', 'p': 2})\n",
    "\n",
    "print('Distance Matching ATE:', round(causal_estimate_dmatch.value,4))"
   ]
  },
  {
   "cell_type": "markdown",
   "metadata": {},
   "source": [
    "#### Propensity Score Matching"
   ]
  },
  {
   "cell_type": "code",
   "execution_count": 62,
   "metadata": {},
   "outputs": [
    {
     "name": "stdout",
     "output_type": "stream",
     "text": [
      "Propensity Score Stratification ATE: -0.2673\n"
     ]
    }
   ],
   "source": [
    "causal_estimate_pmatching  = model.estimate_effect(\n",
    "    identified_estimand=identified_estimand,\n",
    "    method_name='backdoor.propensity_score_matching',\n",
    "    target_units='ate')\n",
    "\n",
    "print('Propensity Score Stratification ATE:', round(causal_estimate_pmatching.value,4))"
   ]
  },
  {
   "cell_type": "markdown",
   "metadata": {},
   "source": [
    "#### Propensity Score Stratification"
   ]
  },
  {
   "cell_type": "code",
   "execution_count": 66,
   "metadata": {},
   "outputs": [
    {
     "name": "stdout",
     "output_type": "stream",
     "text": [
      "Propensity Score Stratification ATE: -0.2427\n"
     ]
    }
   ],
   "source": [
    "causal_estimate_pstrat  = model.estimate_effect(\n",
    "    identified_estimand=identified_estimand,\n",
    "    method_name='backdoor.propensity_score_stratification',\n",
    "    target_units='ate')\n",
    "\n",
    "print('Propensity Score Stratification ATE:', round(causal_estimate_pstrat.value,4))"
   ]
  },
  {
   "cell_type": "markdown",
   "metadata": {},
   "source": [
    "#### Propensity Score Weighting"
   ]
  },
  {
   "cell_type": "markdown",
   "metadata": {},
   "source": [
    "Having a different room assigned decreases the chances of cancellation.\n",
    "While the associational analysis earlier indicated a positive correlation between is_canceled and different_room_assigned, estimating the causal effect using DoWhy presents a different picture. It implies that a decision/policy to reduce the number of different_room_assigned at hotels may be counter-productive.\n",
    "\n",
    "Is this the correct causal effect? Maybe assigning a different room only happens at check-in and therefore the chances of cancellation of a customer already at the hotel is low.\n",
    "\n",
    "Limitation: The number of Booking Changes being the only variable affecting Treatment and Outcome is highly unlikely and its possible that there might be some Unobsevered Confounders, regarding which we have no information being captured in our data."
   ]
  },
  {
   "cell_type": "code",
   "execution_count": 64,
   "metadata": {},
   "outputs": [
    {
     "name": "stdout",
     "output_type": "stream",
     "text": [
      "Weighting ATE: -0.2621\n"
     ]
    }
   ],
   "source": [
    "causal_estimate_weighting  = model.estimate_effect(\n",
    "    identified_estimand=identified_estimand,\n",
    "    method_name='backdoor.propensity_score_weighting',\n",
    "    target_units='ate',\n",
    "    method_params={\"weighting_scheme\":\"ips_weight\"})\n",
    "\n",
    "print('Weighting ATE:', round(causal_estimate_weighting.value,4))"
   ]
  },
  {
   "cell_type": "code",
   "execution_count": 65,
   "metadata": {},
   "outputs": [
    {
     "name": "stdout",
     "output_type": "stream",
     "text": [
      "*** Causal Estimate ***\n",
      "\n",
      "## Identified estimand\n",
      "Estimand type: EstimandType.NONPARAMETRIC_ATE\n",
      "\n",
      "### Estimand : 1\n",
      "Estimand name: backdoor\n",
      "Estimand expression:\n",
      "            d                                                                 \n",
      "──────────────────────────(E[is_canceled|guests,is_repeated_guest,days_in_wait\n",
      "d[different_room_assigned]                                                    \n",
      "\n",
      "                                                                              \n",
      "ing_list,lead_time,booking_changes,total_stay,total_of_special_requests,hotel,\n",
      "                                                                              \n",
      "\n",
      "                             \n",
      "required_car_parking_spaces])\n",
      "                             \n",
      "Estimand assumption 1, Unconfoundedness: If U→{different_room_assigned} and U→is_canceled then P(is_canceled|different_room_assigned,guests,is_repeated_guest,days_in_waiting_list,lead_time,booking_changes,total_stay,total_of_special_requests,hotel,required_car_parking_spaces,U) = P(is_canceled|different_room_assigned,guests,is_repeated_guest,days_in_waiting_list,lead_time,booking_changes,total_stay,total_of_special_requests,hotel,required_car_parking_spaces)\n",
      "\n",
      "## Realized estimand\n",
      "b: is_canceled~different_room_assigned+guests+is_repeated_guest+days_in_waiting_list+lead_time+booking_changes+total_stay+total_of_special_requests+hotel+required_car_parking_spaces\n",
      "Target units: ate\n",
      "\n",
      "## Estimate\n",
      "Mean value: -0.2621363467431916\n",
      "\n"
     ]
    }
   ],
   "source": [
    "print(causal_estimate_weighting)"
   ]
  },
  {
   "cell_type": "markdown",
   "metadata": {},
   "source": [
    "### Refuting the Estimate: Robustness Tests"
   ]
  },
  {
   "cell_type": "markdown",
   "metadata": {},
   "source": [
    "Test the estimators against refutation tests (p-value < .05).\n",
    "Cannot verify that the estimate if correct, but can falisfy if the expected behavior is violated. Increases confidence in the correctness. </br>\n",
    "Types: </br>\n",
    "Invariant Transformations = Changes in the data that should not change the estimate (e.g., random common cause, data subset) </br>\n",
    "Nullifying Transformations = After the data change, the causal estimate is zero. Any estimator whose result varies significantly from zero on the new data fails the test (e.g., placebo treatment)."
   ]
  },
  {
   "cell_type": "code",
   "execution_count": 74,
   "metadata": {},
   "outputs": [],
   "source": [
    "# Adding a random common cause variable\n",
    "# adds randomly drawn covariates to data and reruns the analysis to see if the causal estimate changes or not.\n",
    "# if our assumption was originally correct then the causal estimate shouldn't change much.\n",
    "res_random=model.refute_estimate(identified_estimand,causal_estimate_weighting,method_name=\"random_common_cause\",random_seed=1)\n",
    "print(res_random)"
   ]
  },
  {
   "cell_type": "code",
   "execution_count": null,
   "metadata": {},
   "outputs": [
    {
     "name": "stdout",
     "output_type": "stream",
     "text": [
      "Refute: Use a Placebo Treatment\n",
      "Estimated effect:105.67364117364119\n",
      "New effect:4.215127465127484\n",
      "p value:3.0543025014669563e-07\n",
      "\n"
     ]
    }
   ],
   "source": [
    "# Replacing treatment with a random placebo variable for the treatment and reruns the analysis\n",
    "# estimate should go to 0\n",
    "res_placebo=model.refute_estimate(identified_estimand,causal_estimate_weighting,method_name=\"placebo_treatment_refuter\",placebo_type=\"permute\",num_simulations=20,random_seed=1)\n",
    "print(res_placebo)"
   ]
  },
  {
   "cell_type": "code",
   "execution_count": null,
   "metadata": {},
   "outputs": [
    {
     "name": "stdout",
     "output_type": "stream",
     "text": [
      "Refute: Use a subset of data\n",
      "Estimated effect:105.67364117364119\n",
      "New effect:101.80520945749369\n",
      "p value:0.52\n",
      "\n"
     ]
    }
   ],
   "source": [
    "# Creates a random subset of the data and checks whether the casual estimates vary across subsets.\n",
    "# there should not be much variation\n",
    "# similar to cross-validation\n",
    "res_subset=model.refute_estimate(identified_estimand,causal_estimate_weighting,method_name=\"data_subset_refuter\",subset_fraction=.9,random_seed=1)\n",
    "print(res_subset)"
   ]
  },
  {
   "cell_type": "markdown",
   "metadata": {},
   "source": [
    "### Scrape Code"
   ]
  },
  {
   "cell_type": "markdown",
   "metadata": {},
   "source": [
    "### Linear Regression"
   ]
  },
  {
   "cell_type": "code",
   "execution_count": null,
   "metadata": {},
   "outputs": [],
   "source": [
    "# causal_estimate_linreg = model.estimate_effect(\n",
    "#    identified_estimand = identified_estimand,\n",
    "#    method_name = 'backdoor.linear_regression',\n",
    "#    test_significance = True,\n",
    "#    target_units = 'ate')\n",
    "\n",
    "# print('Linear Regression ATE:', round(causal_estimate_linreg.value,4))"
   ]
  }
 ],
 "metadata": {
  "kernelspec": {
   "display_name": "datascience4",
   "language": "python",
   "name": "python3"
  },
  "language_info": {
   "codemirror_mode": {
    "name": "ipython",
    "version": 3
   },
   "file_extension": ".py",
   "mimetype": "text/x-python",
   "name": "python",
   "nbconvert_exporter": "python",
   "pygments_lexer": "ipython3",
   "version": "3.11.8"
  },
  "orig_nbformat": 4
 },
 "nbformat": 4,
 "nbformat_minor": 2
}
