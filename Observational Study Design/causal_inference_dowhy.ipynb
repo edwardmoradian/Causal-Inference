{
 "cells": [
  {
   "cell_type": "code",
   "execution_count": 20,
   "metadata": {},
   "outputs": [],
   "source": [
    "## Description: Impact of management training study\n",
    "# Random assignment of maangers into or not into management training\n",
    "# Measure the outcome of engagement of employees from the managers\n",
    "# Some managers received the training even though not assigned to it - randomization not valid\n"
   ]
  },
  {
   "cell_type": "code",
   "execution_count": 21,
   "metadata": {},
   "outputs": [],
   "source": [
    "import pandas as pd\n",
    "import numpy as np\n",
    "import statsmodels.formula.api as smf\n",
    "from sklearn.neighbors import KNeighborsRegressor\n",
    "from sklearn.linear_model import LogisticRegression\n",
    "from patsy import dmatrix\n",
    "from joblib import Parallel, delayed # for parallel processing\n",
    "from toolz import partial\n",
    "from dowhy import CausalModel\n",
    "\n",
    "import warnings\n",
    "warnings.simplefilter(action='ignore', category=FutureWarning)"
   ]
  },
  {
   "cell_type": "code",
   "execution_count": 22,
   "metadata": {},
   "outputs": [
    {
     "data": {
      "text/html": [
       "<div>\n",
       "<style scoped>\n",
       "    .dataframe tbody tr th:only-of-type {\n",
       "        vertical-align: middle;\n",
       "    }\n",
       "\n",
       "    .dataframe tbody tr th {\n",
       "        vertical-align: top;\n",
       "    }\n",
       "\n",
       "    .dataframe thead th {\n",
       "        text-align: right;\n",
       "    }\n",
       "</style>\n",
       "<table border=\"1\" class=\"dataframe\">\n",
       "  <thead>\n",
       "    <tr style=\"text-align: right;\">\n",
       "      <th></th>\n",
       "      <th>departament_id</th>\n",
       "      <th>intervention</th>\n",
       "      <th>engagement_score</th>\n",
       "      <th>tenure</th>\n",
       "      <th>n_of_reports</th>\n",
       "      <th>gender</th>\n",
       "      <th>role</th>\n",
       "      <th>last_engagement_score</th>\n",
       "      <th>department_score</th>\n",
       "      <th>department_size</th>\n",
       "    </tr>\n",
       "  </thead>\n",
       "  <tbody>\n",
       "    <tr>\n",
       "      <th>0</th>\n",
       "      <td>76</td>\n",
       "      <td>1</td>\n",
       "      <td>0.277359</td>\n",
       "      <td>6</td>\n",
       "      <td>4</td>\n",
       "      <td>2</td>\n",
       "      <td>4</td>\n",
       "      <td>0.614261</td>\n",
       "      <td>0.224077</td>\n",
       "      <td>843</td>\n",
       "    </tr>\n",
       "    <tr>\n",
       "      <th>1</th>\n",
       "      <td>76</td>\n",
       "      <td>1</td>\n",
       "      <td>-0.449646</td>\n",
       "      <td>4</td>\n",
       "      <td>8</td>\n",
       "      <td>2</td>\n",
       "      <td>4</td>\n",
       "      <td>0.069636</td>\n",
       "      <td>0.224077</td>\n",
       "      <td>843</td>\n",
       "    </tr>\n",
       "    <tr>\n",
       "      <th>2</th>\n",
       "      <td>76</td>\n",
       "      <td>1</td>\n",
       "      <td>0.769703</td>\n",
       "      <td>6</td>\n",
       "      <td>4</td>\n",
       "      <td>2</td>\n",
       "      <td>4</td>\n",
       "      <td>0.866918</td>\n",
       "      <td>0.224077</td>\n",
       "      <td>843</td>\n",
       "    </tr>\n",
       "    <tr>\n",
       "      <th>3</th>\n",
       "      <td>76</td>\n",
       "      <td>1</td>\n",
       "      <td>-0.121763</td>\n",
       "      <td>6</td>\n",
       "      <td>4</td>\n",
       "      <td>2</td>\n",
       "      <td>4</td>\n",
       "      <td>0.029071</td>\n",
       "      <td>0.224077</td>\n",
       "      <td>843</td>\n",
       "    </tr>\n",
       "    <tr>\n",
       "      <th>4</th>\n",
       "      <td>76</td>\n",
       "      <td>1</td>\n",
       "      <td>1.526147</td>\n",
       "      <td>6</td>\n",
       "      <td>4</td>\n",
       "      <td>1</td>\n",
       "      <td>4</td>\n",
       "      <td>0.589857</td>\n",
       "      <td>0.224077</td>\n",
       "      <td>843</td>\n",
       "    </tr>\n",
       "  </tbody>\n",
       "</table>\n",
       "</div>"
      ],
      "text/plain": [
       "   departament_id  intervention  engagement_score  tenure  n_of_reports  \\\n",
       "0              76             1          0.277359       6             4   \n",
       "1              76             1         -0.449646       4             8   \n",
       "2              76             1          0.769703       6             4   \n",
       "3              76             1         -0.121763       6             4   \n",
       "4              76             1          1.526147       6             4   \n",
       "\n",
       "   gender  role  last_engagement_score  department_score  department_size  \n",
       "0       2     4               0.614261          0.224077              843  \n",
       "1       2     4               0.069636          0.224077              843  \n",
       "2       2     4               0.866918          0.224077              843  \n",
       "3       2     4               0.029071          0.224077              843  \n",
       "4       1     4               0.589857          0.224077              843  "
      ]
     },
     "execution_count": 22,
     "metadata": {},
     "output_type": "execute_result"
    }
   ],
   "source": [
    "# treatment is intervention, outcome is engagement_score, rest of vars are covariates\n",
    "# reduce or even eliminate the bias when estimating the causal relationship between management training and employee engagement\n",
    "df = pd.read_csv(\"management_training.csv\")\n",
    "df.head()"
   ]
  },
  {
   "cell_type": "code",
   "execution_count": 23,
   "metadata": {},
   "outputs": [
    {
     "data": {
      "image/png": "[encoded data removed]",
      "text/latex": [
       "$\\displaystyle \\left( 10391, \\  10\\right)$"
      ],
      "text/plain": [
       "(10391, 10)"
      ]
     },
     "execution_count": 23,
     "metadata": {},
     "output_type": "execute_result"
    }
   ],
   "source": [
    "df.shape"
   ]
  },
  {
   "cell_type": "code",
   "execution_count": 24,
   "metadata": {},
   "outputs": [
    {
     "data": {
      "text/plain": [
       "departament_id             int64\n",
       "intervention               int64\n",
       "engagement_score         float64\n",
       "tenure                     int64\n",
       "n_of_reports               int64\n",
       "gender                     int64\n",
       "role                       int64\n",
       "last_engagement_score    float64\n",
       "department_score         float64\n",
       "department_size            int64\n",
       "dtype: object"
      ]
     },
     "execution_count": 24,
     "metadata": {},
     "output_type": "execute_result"
    }
   ],
   "source": [
    "df.dtypes"
   ]
  },
  {
   "cell_type": "code",
   "execution_count": 25,
   "metadata": {},
   "outputs": [],
   "source": [
    "# df['intervention'] = df['intervention'].astype('str')\n",
    "df['intervention'] = df['intervention'].astype('bool')"
   ]
  },
  {
   "cell_type": "code",
   "execution_count": 26,
   "metadata": {},
   "outputs": [
    {
     "data": {
      "text/plain": [
       "count    1.039100e+04\n",
       "mean     3.829313e-17\n",
       "std      1.000000e+00\n",
       "min     -3.111431e+00\n",
       "25%     -7.033152e-01\n",
       "50%     -3.449486e-02\n",
       "75%      6.724723e-01\n",
       "max      3.563639e+00\n",
       "Name: engagement_score, dtype: float64"
      ]
     },
     "execution_count": 26,
     "metadata": {},
     "output_type": "execute_result"
    }
   ],
   "source": [
    "df['engagement_score'].describe()"
   ]
  },
  {
   "cell_type": "markdown",
   "metadata": {},
   "source": [
    "#### Naive Estimate of Average Treatment Effect (ATE)"
   ]
  },
  {
   "cell_type": "code",
   "execution_count": 27,
   "metadata": {},
   "outputs": [
    {
     "name": "stdout",
     "output_type": "stream",
     "text": [
      "Treatment Average: 0.1999\n",
      "Control Average: -0.2347\n",
      "Treatment Effect: 0.4346\n"
     ]
    }
   ],
   "source": [
    "treatment_avg = df.loc[df['intervention'] == 1,'engagement_score'].mean()\n",
    "control_avg = df.loc[df['intervention'] == 0,'engagement_score'].mean()\n",
    "\n",
    "print('Treatment Average:', treatment_avg.round(4))\n",
    "print('Control Average:',  control_avg.round(4))\n",
    "print('Treatment Effect:', (treatment_avg - control_avg).round(4))"
   ]
  },
  {
   "cell_type": "markdown",
   "metadata": {},
   "source": [
    "### DoWhy: Graphical Causal Model Model based Inference)"
   ]
  },
  {
   "cell_type": "code",
   "execution_count": 28,
   "metadata": {},
   "outputs": [],
   "source": [
    "# Graph Modeling Language (GML)\n",
    "nodes = ['engagement_score','intervention','tenure','last_engagement_score','department_score','department_size','n_of_reports', 'gender', 'role']\n",
    "edges = [\n",
    "    ('tenure', 'engagement_score'),\n",
    "    ('last_engagement_score', 'engagement_score'),\n",
    "    ('department_score', 'engagement_score'),\n",
    "    ('department_size', 'engagement_score'),\n",
    "    ('n_of_reports', 'engagement_score'),\n",
    "    ('gender', 'engagement_score'),\n",
    "    ('role', 'engagement_score'),\n",
    "    \n",
    "    ('intervention', 'engagement_score'),\n",
    "\n",
    "    ('tenure', 'intervention'), # confounders\n",
    "    ('last_engagement_score', 'intervention'),\n",
    "    ('department_score', 'intervention'),\n",
    "    ('department_size', 'intervention'),\n",
    "    ('n_of_reports', 'intervention'),\n",
    "    ('gender', 'intervention'),\n",
    "    ('role', 'intervention'),\n",
    "\n",
    "    ('n_of_reports', 'tenure'),\n",
    "    ('tenure', 'role'),\n",
    "    ('n_of_reports', 'role')\n",
    "\n",
    "]\n",
    "\n",
    "# Generate the GML graph\n",
    "gml_string = 'graph [directed 1\\n'\n",
    "for node in nodes:\n",
    "    gml_string += f'\\tnode [id \"{node}\" label \"{node}\"]\\n'\n",
    "for edge in edges:\n",
    "    gml_string += f'\\tedge [source \"{edge[0]}\" target\"{edge[1]}\"]\\n'\n",
    "gml_string += ']'"
   ]
  },
  {
   "cell_type": "code",
   "execution_count": 29,
   "metadata": {},
   "outputs": [
    {
     "data": {
      "text/plain": [
       "array([ True, False])"
      ]
     },
     "execution_count": 29,
     "metadata": {},
     "output_type": "execute_result"
    }
   ],
   "source": [
    "df['intervention'].unique()"
   ]
  },
  {
   "cell_type": "code",
   "execution_count": 30,
   "metadata": {},
   "outputs": [],
   "source": [
    "# Can add common causes, effect modifiers, instrumental vars\n",
    "# common causes = covariates, vars with more than 1 effect\n",
    "model = CausalModel(\n",
    "    data = df,\n",
    "    treatment = 'intervention',\n",
    "    outcome = 'engagement_score',\n",
    "    graph=gml_string\n",
    ")"
   ]
  },
  {
   "cell_type": "code",
   "execution_count": 31,
   "metadata": {},
   "outputs": [
    {
     "name": "stdout",
     "output_type": "stream",
     "text": [
      "Model to find the causal effect of treatment ['intervention'] on outcome ['engagement_score']\n"
     ]
    },
    {
     "data": {
      "image/png": "[encoded data removed]",
      "text/plain": [
       "<Figure size 800x600 with 1 Axes>"
      ]
     },
     "metadata": {},
     "output_type": "display_data"
    }
   ],
   "source": [
    "model.interpret()"
   ]
  },
  {
   "cell_type": "code",
   "execution_count": 32,
   "metadata": {},
   "outputs": [
    {
     "name": "stdout",
     "output_type": "stream",
     "text": [
      "Estimand type: EstimandType.NONPARAMETRIC_ATE\n",
      "\n",
      "### Estimand : 1\n",
      "Estimand name: backdoor\n",
      "Estimand expression:\n",
      "       d                                                                      \n",
      "───────────────(E[engagement_score|role,n_of_reports,department_score,departme\n",
      "d[intervention]                                                               \n",
      "\n",
      "                                             \n",
      "nt_size,gender,last_engagement_score,tenure])\n",
      "                                             \n",
      "Estimand assumption 1, Unconfoundedness: If U→{intervention} and U→engagement_score then P(engagement_score|intervention,role,n_of_reports,department_score,department_size,gender,last_engagement_score,tenure,U) = P(engagement_score|intervention,role,n_of_reports,department_score,department_size,gender,last_engagement_score,tenure)\n",
      "\n",
      "### Estimand : 2\n",
      "Estimand name: iv\n",
      "No such variable(s) found!\n",
      "\n",
      "### Estimand : 3\n",
      "Estimand name: frontdoor\n",
      "No such variable(s) found!\n",
      "\n"
     ]
    }
   ],
   "source": [
    "estimand = model.identify_effect(proceed_when_unidentifiable=True) # proceed_when_unidentifiable ignore any unobserved confounding\n",
    "print(estimand)"
   ]
  },
  {
   "cell_type": "markdown",
   "metadata": {},
   "source": [
    "#### Distance Matching"
   ]
  },
  {
   "cell_type": "code",
   "execution_count": 33,
   "metadata": {},
   "outputs": [
    {
     "name": "stdout",
     "output_type": "stream",
     "text": [
      "Distance Matching ATE: 0.294\n"
     ]
    }
   ],
   "source": [
    "causal_estimate_dmatch  = model.estimate_effect(\n",
    "    identified_estimand=estimand,\n",
    "    method_name='backdoor.distance_matching',\n",
    "    target_units='ate',\n",
    "    method_params={'distance_metric': 'minkowski', 'p': 2})\n",
    "\n",
    "print('Distance Matching ATE:', round(causal_estimate_dmatch.value,4))"
   ]
  },
  {
   "cell_type": "code",
   "execution_count": 34,
   "metadata": {},
   "outputs": [
    {
     "name": "stdout",
     "output_type": "stream",
     "text": [
      "*** Causal Estimate ***\n",
      "\n",
      "## Identified estimand\n",
      "Estimand type: EstimandType.NONPARAMETRIC_ATE\n",
      "\n",
      "### Estimand : 1\n",
      "Estimand name: backdoor\n",
      "Estimand expression:\n",
      "       d                                                                      \n",
      "───────────────(E[engagement_score|role,n_of_reports,department_score,departme\n",
      "d[intervention]                                                               \n",
      "\n",
      "                                             \n",
      "nt_size,gender,last_engagement_score,tenure])\n",
      "                                             \n",
      "Estimand assumption 1, Unconfoundedness: If U→{intervention} and U→engagement_score then P(engagement_score|intervention,role,n_of_reports,department_score,department_size,gender,last_engagement_score,tenure,U) = P(engagement_score|intervention,role,n_of_reports,department_score,department_size,gender,last_engagement_score,tenure)\n",
      "\n",
      "## Realized estimand\n",
      "b: engagement_score~intervention+role+n_of_reports+department_score+department_size+gender+last_engagement_score+tenure\n",
      "Target units: ate\n",
      "\n",
      "## Estimate\n",
      "Mean value: 0.29397405673638394\n",
      "\n"
     ]
    }
   ],
   "source": [
    "print(causal_estimate_dmatch)"
   ]
  },
  {
   "cell_type": "markdown",
   "metadata": {},
   "source": [
    "#### Linear Regression"
   ]
  },
  {
   "cell_type": "code",
   "execution_count": 35,
   "metadata": {},
   "outputs": [
    {
     "name": "stdout",
     "output_type": "stream",
     "text": [
      "Linear Regression ATE: 0.272\n"
     ]
    }
   ],
   "source": [
    "causal_estimate_linreg  = model.estimate_effect(\n",
    "    identified_estimand=estimand,\n",
    "    method_name='backdoor.linear_regression',\n",
    "    test_significance=True)\n",
    "\n",
    "print('Linear Regression ATE:', round(causal_estimate_linreg.value,4))"
   ]
  },
  {
   "cell_type": "markdown",
   "metadata": {},
   "source": [
    "#### Propensity Score Stratification"
   ]
  },
  {
   "cell_type": "code",
   "execution_count": 36,
   "metadata": {},
   "outputs": [
    {
     "name": "stderr",
     "output_type": "stream",
     "text": [
      "c:\\Users\\arsep\\anaconda3\\envs\\ds1\\Lib\\site-packages\\sklearn\\linear_model\\_logistic.py:469: ConvergenceWarning: lbfgs failed to converge (status=1):\n",
      "STOP: TOTAL NO. of ITERATIONS REACHED LIMIT.\n",
      "\n",
      "Increase the number of iterations (max_iter) or scale the data as shown in:\n",
      "    https://scikit-learn.org/stable/modules/preprocessing.html\n",
      "Please also refer to the documentation for alternative solver options:\n",
      "    https://scikit-learn.org/stable/modules/linear_model.html#logistic-regression\n",
      "  n_iter_i = _check_optimize_result(\n"
     ]
    },
    {
     "name": "stdout",
     "output_type": "stream",
     "text": [
      "Propensity Score Stratification ATE: 0.2914\n"
     ]
    }
   ],
   "source": [
    "causal_estimate_pstrat  = model.estimate_effect(\n",
    "    identified_estimand=estimand,\n",
    "    method_name='backdoor.propensity_score_matching',\n",
    "    target_units='ate')\n",
    "\n",
    "print('Propensity Score Stratification ATE:', round(causal_estimate_pstrat.value,4))"
   ]
  },
  {
   "cell_type": "markdown",
   "metadata": {},
   "source": [
    "#### Propensity Score Matching"
   ]
  },
  {
   "cell_type": "code",
   "execution_count": 37,
   "metadata": {},
   "outputs": [
    {
     "name": "stdout",
     "output_type": "stream",
     "text": [
      "Propensity Score Matching ATE: 0.3055\n"
     ]
    }
   ],
   "source": [
    "causal_estimate_pmatching  = model.estimate_effect(\n",
    "    identified_estimand=estimand,\n",
    "    method_name='backdoor.propensity_score_stratification',\n",
    "    target_units='ate')\n",
    "\n",
    "print('Propensity Score Matching ATE:', round(causal_estimate_pmatching.value,4))"
   ]
  },
  {
   "cell_type": "markdown",
   "metadata": {},
   "source": [
    "### Propensity Score Weighting"
   ]
  },
  {
   "cell_type": "code",
   "execution_count": 38,
   "metadata": {},
   "outputs": [
    {
     "name": "stdout",
     "output_type": "stream",
     "text": [
      "Weighting ATE: 0.3136\n"
     ]
    }
   ],
   "source": [
    "causal_estimate_weighting  = model.estimate_effect(\n",
    "    identified_estimand=estimand,\n",
    "    method_name='backdoor.propensity_score_weighting',\n",
    "    target_units='ate',\n",
    "    method_params={\"weighting_scheme\":\"ips_weight\"})\n",
    "\n",
    "print('Weighting ATE:', round(causal_estimate_weighting.value,4))"
   ]
  }
 ],
 "metadata": {
  "kernelspec": {
   "display_name": "datascience4",
   "language": "python",
   "name": "python3"
  },
  "language_info": {
   "codemirror_mode": {
    "name": "ipython",
    "version": 3
   },
   "file_extension": ".py",
   "mimetype": "text/x-python",
   "name": "python",
   "nbconvert_exporter": "python",
   "pygments_lexer": "ipython3",
   "version": "3.11.8"
  },
  "orig_nbformat": 4
 },
 "nbformat": 4,
 "nbformat_minor": 2
}
