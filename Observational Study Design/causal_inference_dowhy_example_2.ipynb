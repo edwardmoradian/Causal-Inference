{
 "cells": [
  {
   "cell_type": "code",
   "execution_count": 1,
   "metadata": {},
   "outputs": [],
   "source": [
    "## Description: Estimate Effect of member rewards/subscription program for customers on total sales\n",
    "# counterfactual: If the customers did not sign up for the rewwards program how much less would they have spent?\n",
    "\n",
    "## Source: DoWhy docs in https://www.pywhy.org/dowhy/v0.8/example_notebooks/dowhy_example_effect_of_memberrewards_program.html\n"
   ]
  },
  {
   "cell_type": "code",
   "execution_count": 2,
   "metadata": {},
   "outputs": [
    {
     "name": "stderr",
     "output_type": "stream",
     "text": [
      "c:\\Users\\arsep\\anaconda3\\envs\\ds1\\Lib\\site-packages\\tqdm\\auto.py:21: TqdmWarning: IProgress not found. Please update jupyter and ipywidgets. See https://ipywidgets.readthedocs.io/en/stable/user_install.html\n",
      "  from .autonotebook import tqdm as notebook_tqdm\n"
     ]
    }
   ],
   "source": [
    "import pandas as pd\n",
    "import numpy as np\n",
    "import statsmodels.formula.api as smf\n",
    "from sklearn.neighbors import KNeighborsRegressor\n",
    "from sklearn.linear_model import LogisticRegression\n",
    "from patsy import dmatrix\n",
    "from joblib import Parallel, delayed # for parallel processing\n",
    "from toolz import partial\n",
    "from dowhy import CausalModel\n",
    "\n",
    "import warnings\n",
    "warnings.simplefilter(action='ignore', category=FutureWarning)"
   ]
  },
  {
   "cell_type": "code",
   "execution_count": 3,
   "metadata": {},
   "outputs": [
    {
     "data": {
      "text/html": [
       "<div>\n",
       "<style scoped>\n",
       "    .dataframe tbody tr th:only-of-type {\n",
       "        vertical-align: middle;\n",
       "    }\n",
       "\n",
       "    .dataframe tbody tr th {\n",
       "        vertical-align: top;\n",
       "    }\n",
       "\n",
       "    .dataframe thead th {\n",
       "        text-align: right;\n",
       "    }\n",
       "</style>\n",
       "<table border=\"1\" class=\"dataframe\">\n",
       "  <thead>\n",
       "    <tr style=\"text-align: right;\">\n",
       "      <th></th>\n",
       "      <th>user_id</th>\n",
       "      <th>signup_month</th>\n",
       "      <th>month</th>\n",
       "      <th>spend</th>\n",
       "      <th>treatment</th>\n",
       "    </tr>\n",
       "  </thead>\n",
       "  <tbody>\n",
       "    <tr>\n",
       "      <th>0</th>\n",
       "      <td>0</td>\n",
       "      <td>0</td>\n",
       "      <td>1</td>\n",
       "      <td>477</td>\n",
       "      <td>False</td>\n",
       "    </tr>\n",
       "    <tr>\n",
       "      <th>1</th>\n",
       "      <td>0</td>\n",
       "      <td>0</td>\n",
       "      <td>2</td>\n",
       "      <td>496</td>\n",
       "      <td>False</td>\n",
       "    </tr>\n",
       "    <tr>\n",
       "      <th>2</th>\n",
       "      <td>0</td>\n",
       "      <td>0</td>\n",
       "      <td>3</td>\n",
       "      <td>453</td>\n",
       "      <td>False</td>\n",
       "    </tr>\n",
       "    <tr>\n",
       "      <th>3</th>\n",
       "      <td>0</td>\n",
       "      <td>0</td>\n",
       "      <td>4</td>\n",
       "      <td>441</td>\n",
       "      <td>False</td>\n",
       "    </tr>\n",
       "    <tr>\n",
       "      <th>4</th>\n",
       "      <td>0</td>\n",
       "      <td>0</td>\n",
       "      <td>5</td>\n",
       "      <td>490</td>\n",
       "      <td>False</td>\n",
       "    </tr>\n",
       "    <tr>\n",
       "      <th>...</th>\n",
       "      <td>...</td>\n",
       "      <td>...</td>\n",
       "      <td>...</td>\n",
       "      <td>...</td>\n",
       "      <td>...</td>\n",
       "    </tr>\n",
       "    <tr>\n",
       "      <th>119995</th>\n",
       "      <td>9999</td>\n",
       "      <td>1</td>\n",
       "      <td>8</td>\n",
       "      <td>540</td>\n",
       "      <td>True</td>\n",
       "    </tr>\n",
       "    <tr>\n",
       "      <th>119996</th>\n",
       "      <td>9999</td>\n",
       "      <td>1</td>\n",
       "      <td>9</td>\n",
       "      <td>500</td>\n",
       "      <td>True</td>\n",
       "    </tr>\n",
       "    <tr>\n",
       "      <th>119997</th>\n",
       "      <td>9999</td>\n",
       "      <td>1</td>\n",
       "      <td>10</td>\n",
       "      <td>534</td>\n",
       "      <td>True</td>\n",
       "    </tr>\n",
       "    <tr>\n",
       "      <th>119998</th>\n",
       "      <td>9999</td>\n",
       "      <td>1</td>\n",
       "      <td>11</td>\n",
       "      <td>476</td>\n",
       "      <td>True</td>\n",
       "    </tr>\n",
       "    <tr>\n",
       "      <th>119999</th>\n",
       "      <td>9999</td>\n",
       "      <td>1</td>\n",
       "      <td>12</td>\n",
       "      <td>503</td>\n",
       "      <td>True</td>\n",
       "    </tr>\n",
       "  </tbody>\n",
       "</table>\n",
       "<p>120000 rows × 5 columns</p>\n",
       "</div>"
      ],
      "text/plain": [
       "        user_id  signup_month  month  spend  treatment\n",
       "0             0             0      1    477      False\n",
       "1             0             0      2    496      False\n",
       "2             0             0      3    453      False\n",
       "3             0             0      4    441      False\n",
       "4             0             0      5    490      False\n",
       "...         ...           ...    ...    ...        ...\n",
       "119995     9999             1      8    540       True\n",
       "119996     9999             1      9    500       True\n",
       "119997     9999             1     10    534       True\n",
       "119998     9999             1     11    476       True\n",
       "119999     9999             1     12    503       True\n",
       "\n",
       "[120000 rows x 5 columns]"
      ]
     },
     "execution_count": 3,
     "metadata": {},
     "output_type": "execute_result"
    }
   ],
   "source": [
    "# Response variable is the total spend at the end of the year (rewards program started Jan 2019)\n",
    "# Creating some simulated data for our example\n",
    "\n",
    "num_users = 10000\n",
    "num_months = 12\n",
    "\n",
    "signup_months = np.random.choice(np.arange(1, num_months), num_users) * np.random.randint(0,2, size=num_users) # signup_months == 0 means customer did not sign up\n",
    "df = pd.DataFrame({\n",
    "    'user_id': np.repeat(np.arange(num_users), num_months),\n",
    "    'signup_month': np.repeat(signup_months, num_months), # signup month == 0 means customer did not sign up\n",
    "    'month': np.tile(np.arange(1, num_months+1), num_users), # months are from 1 to 12\n",
    "    'spend': np.random.poisson(500, num_users*num_months) #np.random.beta(a=2, b=5, size=num_users * num_months)*1000 # centered at 500\n",
    "})\n",
    "\n",
    "# A customer is in the treatment group if and only if they signed up\n",
    "df[\"treatment\"] = df[\"signup_month\"]>0\n",
    "\n",
    "# Simulating an effect of month (monotonically decreasing--customers buy less later in the year)\n",
    "df[\"spend\"] = df[\"spend\"] - df[\"month\"]*10\n",
    "\n",
    "# Simulating a simple treatment effect of 100\n",
    "after_signup = (df[\"signup_month\"] < df[\"month\"]) & (df[\"treatment\"])\n",
    "df.loc[after_signup,\"spend\"] = df[after_signup][\"spend\"] + 100\n",
    "\n",
    "df"
   ]
  },
  {
   "cell_type": "code",
   "execution_count": 8,
   "metadata": {},
   "outputs": [
    {
     "data": {
      "image/png": "[encoded data removed]",
      "text/latex": [
       "$\\displaystyle \\left( 120000, \\  5\\right)$"
      ],
      "text/plain": [
       "(120000, 5)"
      ]
     },
     "execution_count": 8,
     "metadata": {},
     "output_type": "execute_result"
    }
   ],
   "source": [
    "df.shape"
   ]
  },
  {
   "cell_type": "code",
   "execution_count": 9,
   "metadata": {},
   "outputs": [
    {
     "data": {
      "text/plain": [
       "user_id         int32\n",
       "signup_month    int32\n",
       "month           int32\n",
       "spend           int32\n",
       "treatment        bool\n",
       "dtype: object"
      ]
     },
     "execution_count": 9,
     "metadata": {},
     "output_type": "execute_result"
    }
   ],
   "source": [
    "df.dtypes"
   ]
  },
  {
   "cell_type": "code",
   "execution_count": 10,
   "metadata": {},
   "outputs": [
    {
     "data": {
      "text/plain": [
       "count    120000.000000\n",
       "mean        460.251775\n",
       "std          49.956851\n",
       "min         302.000000\n",
       "25%         424.000000\n",
       "50%         461.000000\n",
       "75%         494.000000\n",
       "max         649.000000\n",
       "Name: spend, dtype: float64"
      ]
     },
     "execution_count": 10,
     "metadata": {},
     "output_type": "execute_result"
    }
   ],
   "source": [
    "df['spend'].describe()"
   ]
  },
  {
   "cell_type": "markdown",
   "metadata": {},
   "source": [
    "#### Naive Estimate of Average Treatment Effect (ATE)"
   ]
  },
  {
   "cell_type": "code",
   "execution_count": 13,
   "metadata": {},
   "outputs": [
    {
     "name": "stdout",
     "output_type": "stream",
     "text": [
      "Treatment Average: 485.571\n",
      "Control Average: 434.9528\n",
      "Treatment Effect: 50.6182\n"
     ]
    }
   ],
   "source": [
    "treatment_avg = df.loc[df['treatment'] == True ,'spend'].mean()\n",
    "control_avg = df.loc[df['treatment'] == False,'spend'].mean()\n",
    "\n",
    "print('Treatment Average:', treatment_avg.round(4))\n",
    "print('Control Average:',  control_avg.round(4))\n",
    "print('Treatment Effect:', (treatment_avg - control_avg).round(4))"
   ]
  },
  {
   "cell_type": "markdown",
   "metadata": {},
   "source": [
    "### DoWhy: Graphical Causal Model Model based Inference"
   ]
  },
  {
   "cell_type": "markdown",
   "metadata": {},
   "source": [
    "Rewards signup can affect the future transactions but not the ones before the signup. The transactions that happened prior to the rewards signup can be assumed to cause the rewards signup decision.\n",
    "\n",
    "Feature engineer vars for:\n",
    "1. Activity prior to the treatment (assumed a cause of the treatment): pre_spend var\n",
    "2. Activity after the treatment (is the outcome of applying treatmet): post_spend var\n",
    "\n",
    "Test for customers who signed-up in month 3\n",
    "Test for ATT = The average effect on total spend for the customers that signed up for the rewards program in month i=3"
   ]
  },
  {
   "cell_type": "code",
   "execution_count": 16,
   "metadata": {},
   "outputs": [
    {
     "name": "stdout",
     "output_type": "stream",
     "text": [
      "      user_id  signup_month  treatment  pre_spends  post_spends\n",
      "0           0             0      False       486.5   415.333333\n",
      "1           1             0      False       491.0   416.777778\n",
      "2           5             0      False       529.0   430.666667\n",
      "3           6             0      False       467.5   410.333333\n",
      "4           8             0      False       492.0   412.888889\n",
      "...       ...           ...        ...         ...          ...\n",
      "5459     9990             0      False       515.0   425.000000\n",
      "5460     9992             3       True       480.0   533.333333\n",
      "5461     9994             0      False       526.0   428.888889\n",
      "5462     9995             0      False       467.0   428.777778\n",
      "5463     9998             0      False       511.5   423.444444\n",
      "\n",
      "[5464 rows x 5 columns]\n"
     ]
    },
    {
     "name": "stderr",
     "output_type": "stream",
     "text": [
      "C:\\Users\\arsep\\AppData\\Local\\Temp\\ipykernel_3532\\2171322604.py:21: DeprecationWarning: DataFrameGroupBy.apply operated on the grouping columns. This behavior is deprecated, and in a future version of pandas the grouping columns will be excluded from the operation. Either pass `include_groups=False` to exclude the groupings or explicitly select the grouping columns after groupby to silence this warning.\n",
      "  .apply(\n"
     ]
    }
   ],
   "source": [
    "causal_graph = \"\"\"digraph {\n",
    "treatment[label=\"Program Signup in month i\"];\n",
    "pre_spends;\n",
    "post_spends;\n",
    "Z -> treatment;\n",
    "pre_spends -> treatment;\n",
    "treatment -> post_spends;\n",
    "signup_month -> post_spends;\n",
    "signup_month -> treatment;\n",
    "}\"\"\"\n",
    "\n",
    "# Post-process the data based on the graph and the month of the treatment (signup)\n",
    "# For each customer, determine their average monthly spend before and after month i\n",
    "\n",
    "# Setting the signup month (for ease of analysis)\n",
    "i = 3\n",
    "\n",
    "df_i_signupmonth = (\n",
    "    df[df.signup_month.isin([0, i])]\n",
    "    .groupby([\"user_id\", \"signup_month\", \"treatment\"])\n",
    "    .apply(\n",
    "        lambda x: pd.Series(\n",
    "            {\n",
    "                \"pre_spends\": x.loc[x.month < i, \"spend\"].mean(),\n",
    "                \"post_spends\": x.loc[x.month > i, \"spend\"].mean(),\n",
    "            }\n",
    "        )\n",
    "    )\n",
    "    .reset_index()\n",
    ")\n",
    "\n",
    "print(df_i_signupmonth)\n"
   ]
  },
  {
   "cell_type": "code",
   "execution_count": 37,
   "metadata": {},
   "outputs": [
    {
     "data": {
      "image/png": "[encoded data removed]",
      "text/latex": [
       "$\\displaystyle \\left( 5464, \\  10\\right)$"
      ],
      "text/plain": [
       "(5464, 10)"
      ]
     },
     "execution_count": 37,
     "metadata": {},
     "output_type": "execute_result"
    }
   ],
   "source": [
    "df_i_signupmonth.shape"
   ]
  },
  {
   "cell_type": "code",
   "execution_count": 18,
   "metadata": {},
   "outputs": [
    {
     "data": {
      "image/png": "[encoded data removed]",
      "text/plain": [
       "<Figure size 800x600 with 1 Axes>"
      ]
     },
     "metadata": {},
     "output_type": "display_data"
    }
   ],
   "source": [
    "model = CausalModel(data=df_i_signupmonth,\n",
    "                     graph=causal_graph.replace(\"\\n\", \" \"),\n",
    "                     treatment=\"treatment\",\n",
    "                     outcome=\"post_spends\")\n",
    "\n",
    "model.view_model()"
   ]
  },
  {
   "cell_type": "code",
   "execution_count": 20,
   "metadata": {},
   "outputs": [
    {
     "data": {
      "text/plain": [
       "array([False,  True])"
      ]
     },
     "execution_count": 20,
     "metadata": {},
     "output_type": "execute_result"
    }
   ],
   "source": [
    "df['treatment'].unique()"
   ]
  },
  {
   "cell_type": "code",
   "execution_count": 49,
   "metadata": {},
   "outputs": [
    {
     "name": "stdout",
     "output_type": "stream",
     "text": [
      "Estimand type: EstimandType.NONPARAMETRIC_ATE\n",
      "\n",
      "### Estimand : 1\n",
      "Estimand name: backdoor\n",
      "Estimand expression:\n",
      "     d                                   \n",
      "────────────(E[post_spends|signup_month])\n",
      "d[treatment]                             \n",
      "Estimand assumption 1, Unconfoundedness: If U→{treatment} and U→post_spends then P(post_spends|treatment,signup_month,U) = P(post_spends|treatment,signup_month)\n",
      "\n",
      "### Estimand : 2\n",
      "Estimand name: iv\n",
      "Estimand expression:\n",
      " ⎡                                                             -1⎤\n",
      " ⎢       d                      ⎛       d                     ⎞  ⎥\n",
      "E⎢────────────────(post_spends)⋅⎜────────────────([treatment])⎟  ⎥\n",
      " ⎣d[pre_spends  Z]              ⎝d[pre_spends  Z]             ⎠  ⎦\n",
      "Estimand assumption 1, As-if-random: If U→→post_spends then ¬(U →→{pre_spends,Z})\n",
      "Estimand assumption 2, Exclusion: If we remove {pre_spends,Z}→{treatment}, then ¬({pre_spends,Z}→post_spends)\n",
      "\n",
      "### Estimand : 3\n",
      "Estimand name: frontdoor\n",
      "No such variable(s) found!\n",
      "\n"
     ]
    }
   ],
   "source": [
    "identified_estimand = model.identify_effect(proceed_when_unidentifiable=True) # proceed_when_unidentifiable ignore any unobserved confounding\n",
    "print(identified_estimand)"
   ]
  },
  {
   "cell_type": "markdown",
   "metadata": {},
   "source": [
    "#### Distance Matching"
   ]
  },
  {
   "cell_type": "code",
   "execution_count": 50,
   "metadata": {},
   "outputs": [
    {
     "name": "stdout",
     "output_type": "stream",
     "text": [
      "Distance Matching ATE: 98.0097\n"
     ]
    }
   ],
   "source": [
    "causal_estimate_dmatch  = model.estimate_effect(\n",
    "    identified_estimand=identified_estimand,\n",
    "    method_name='backdoor.distance_matching',\n",
    "    target_units='ate',\n",
    "    method_params={'distance_metric': 'minkowski', 'p': 2})\n",
    "\n",
    "print('Distance Matching ATE:', round(causal_estimate_dmatch.value,4))"
   ]
  },
  {
   "cell_type": "markdown",
   "metadata": {},
   "source": [
    "#### Linear Regression"
   ]
  },
  {
   "cell_type": "code",
   "execution_count": 51,
   "metadata": {},
   "outputs": [
    {
     "name": "stdout",
     "output_type": "stream",
     "text": [
      "Linear Regression ATT: 10.1087\n"
     ]
    }
   ],
   "source": [
    "causal_estimate_linreg  = model.estimate_effect(\n",
    "    identified_estimand=identified_estimand,\n",
    "    method_name='backdoor.linear_regression',\n",
    "    test_significance=True,\n",
    "    target_units='att')\n",
    "\n",
    "print('Linear Regression ATT:', round(causal_estimate_linreg.value,4))"
   ]
  },
  {
   "cell_type": "markdown",
   "metadata": {},
   "source": [
    "#### Propensity Score Matching"
   ]
  },
  {
   "cell_type": "code",
   "execution_count": 52,
   "metadata": {},
   "outputs": [
    {
     "name": "stdout",
     "output_type": "stream",
     "text": [
      "Propensity Score Stratification ATT: 105.6736\n"
     ]
    }
   ],
   "source": [
    "causal_estimate_pmatching  = model.estimate_effect(\n",
    "    identified_estimand=identified_estimand,\n",
    "    method_name='backdoor.propensity_score_matching',\n",
    "    target_units='att')\n",
    "\n",
    "print('Propensity Score Stratification ATT:', round(causal_estimate_pmatching.value,4))"
   ]
  },
  {
   "cell_type": "code",
   "execution_count": 53,
   "metadata": {},
   "outputs": [
    {
     "name": "stdout",
     "output_type": "stream",
     "text": [
      "*** Causal Estimate ***\n",
      "\n",
      "## Identified estimand\n",
      "Estimand type: EstimandType.NONPARAMETRIC_ATE\n",
      "\n",
      "### Estimand : 1\n",
      "Estimand name: backdoor\n",
      "Estimand expression:\n",
      "     d                                   \n",
      "────────────(E[post_spends|signup_month])\n",
      "d[treatment]                             \n",
      "Estimand assumption 1, Unconfoundedness: If U→{treatment} and U→post_spends then P(post_spends|treatment,signup_month,U) = P(post_spends|treatment,signup_month)\n",
      "\n",
      "## Realized estimand\n",
      "b: post_spends~treatment+signup_month\n",
      "Target units: att\n",
      "\n",
      "## Estimate\n",
      "Mean value: 105.67364117364119\n",
      "\n"
     ]
    }
   ],
   "source": [
    "print(causal_estimate_pmatching)"
   ]
  },
  {
   "cell_type": "markdown",
   "metadata": {},
   "source": [
    "#### Propensity Score Weighting"
   ]
  },
  {
   "cell_type": "code",
   "execution_count": 54,
   "metadata": {},
   "outputs": [
    {
     "name": "stdout",
     "output_type": "stream",
     "text": [
      "Weighting ATT: 101.0866\n"
     ]
    }
   ],
   "source": [
    "causal_estimate_weighting  = model.estimate_effect(\n",
    "    identified_estimand=identified_estimand,\n",
    "    method_name='backdoor.propensity_score_weighting',\n",
    "    target_units='att',\n",
    "    method_params={\"weighting_scheme\":\"ips_weight\"})\n",
    "\n",
    "print('Weighting ATT:', round(causal_estimate_weighting.value,4))"
   ]
  },
  {
   "cell_type": "markdown",
   "metadata": {},
   "source": [
    "### Refuting the Estimate: Robustness Tests"
   ]
  },
  {
   "cell_type": "markdown",
   "metadata": {},
   "source": [
    "Test the estimators against refutation tests (p-value < .05).\n",
    "Cannot verify that the estimate if correct, but can falisfy if the expected behavior is violated.\n",
    "Types:\n",
    "Invariant Transformations = Changes in the data that should not change the estimate (e.g., random common cause, data subset)\n",
    "Nullifying Transformations = After the data change, the causal estimate is zero. Any estimator whose result varies significantly from zero on the new data fails the test (e.g., placebo treatment)."
   ]
  },
  {
   "cell_type": "markdown",
   "metadata": {},
   "source": [
    "There are many important variables affecting signup and total spend that are missing (e.g., the type of products bought, length of a user's account, geography, etc.). Test for this."
   ]
  },
  {
   "cell_type": "code",
   "execution_count": 55,
   "metadata": {},
   "outputs": [
    {
     "name": "stdout",
     "output_type": "stream",
     "text": [
      "Refute: Add a random common cause\n",
      "Estimated effect:105.67364117364119\n",
      "New effect:105.67364117364123\n",
      "p value:1.0\n",
      "\n"
     ]
    }
   ],
   "source": [
    "# Adding a random common cause variable\n",
    "res_random=model.refute_estimate(identified_estimand,causal_estimate_pmatching,method_name=\"random_common_cause\",random_seed=1)\n",
    "print(res_random)"
   ]
  },
  {
   "cell_type": "code",
   "execution_count": 57,
   "metadata": {},
   "outputs": [
    {
     "name": "stdout",
     "output_type": "stream",
     "text": [
      "Refute: Use a Placebo Treatment\n",
      "Estimated effect:105.67364117364119\n",
      "New effect:4.215127465127484\n",
      "p value:3.0543025014669563e-07\n",
      "\n"
     ]
    }
   ],
   "source": [
    "# Replacing treatment with a random placebo variable\n",
    "# estimate should go to 0\n",
    "res_placebo=model.refute_estimate(identified_estimand,causal_estimate_pmatching,method_name=\"placebo_treatment_refuter\",placebo_type=\"permute\",num_simulations=20,random_seed=1)\n",
    "print(res_placebo)"
   ]
  },
  {
   "cell_type": "code",
   "execution_count": 58,
   "metadata": {},
   "outputs": [
    {
     "name": "stdout",
     "output_type": "stream",
     "text": [
      "Refute: Use a subset of data\n",
      "Estimated effect:105.67364117364119\n",
      "New effect:101.80520945749369\n",
      "p value:0.52\n",
      "\n"
     ]
    }
   ],
   "source": [
    "# Removing a random subset of the data\n",
    "res_subset=model.refute_estimate(identified_estimand,causal_estimate_pmatching,method_name=\"data_subset_refuter\",subset_fraction=.9,random_seed=1)\n",
    "print(res_subset)"
   ]
  },
  {
   "cell_type": "markdown",
   "metadata": {},
   "source": [
    "### Limitations"
   ]
  },
  {
   "cell_type": "markdown",
   "metadata": {},
   "source": [
    "Left-censoring and right-censoring\n",
    "Left-censoring = If a customer signs up in the first month, we do not have enough transaction history to match them to similar customers who did not sign up (and thus apply the backdoor identified estimand). \n",
    "Right-censoring = If a customer signs up in the last month, we do not enough future (post-treatment) transactions to estimate the outcome after signup.\n",
    "\n",
    "Issues: even if the effect of signup was the same across all months, the estimated effects may be different by month of signup, due to lack of data (and thus high variance in estimated pre-treatment or post-treatment transactions activity)"
   ]
  },
  {
   "cell_type": "markdown",
   "metadata": {},
   "source": [
    "### Scrape Code"
   ]
  },
  {
   "cell_type": "markdown",
   "metadata": {},
   "source": [
    "#### Propensity Score Matching"
   ]
  },
  {
   "cell_type": "code",
   "execution_count": 61,
   "metadata": {},
   "outputs": [],
   "source": [
    "# causal_estimate_pstrat  = model.estimate_effect(\n",
    "#    identified_estimand=identified_estimand,\n",
    "#    method_name='backdoor.propensity_score_stratification',\n",
    "#    target_units='att',\n",
    "#    method_params={'num_strata':100,'clipping_threshold':10})\n",
    "\n",
    "# print('Propensity Score Stratification ATT:', round(causal_estimate_pstrat.value,4))\n"
   ]
  }
 ],
 "metadata": {
  "kernelspec": {
   "display_name": "datascience4",
   "language": "python",
   "name": "python3"
  },
  "language_info": {
   "codemirror_mode": {
    "name": "ipython",
    "version": 3
   },
   "file_extension": ".py",
   "mimetype": "text/x-python",
   "name": "python",
   "nbconvert_exporter": "python",
   "pygments_lexer": "ipython3",
   "version": "3.11.8"
  },
  "orig_nbformat": 4
 },
 "nbformat": 4,
 "nbformat_minor": 2
}
