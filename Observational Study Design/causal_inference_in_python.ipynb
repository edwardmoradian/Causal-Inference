{
 "cells": [
  {
   "cell_type": "code",
   "execution_count": 1,
   "metadata": {},
   "outputs": [],
   "source": [
    "## Description: Impact of management training study\n",
    "# Random assignment of maangers into or not into management training\n",
    "# Measure the outcome of engagement of employees from the managers\n",
    "# Some managers received the training even though not assigned to it - randomization not valid\n",
    "\n",
    "## Sources: Causal Inference in Python\n"
   ]
  },
  {
   "cell_type": "code",
   "execution_count": 2,
   "metadata": {},
   "outputs": [
    {
     "name": "stderr",
     "output_type": "stream",
     "text": [
      "c:\\Users\\arsep\\anaconda3\\envs\\ds1\\Lib\\site-packages\\tqdm\\auto.py:21: TqdmWarning: IProgress not found. Please update jupyter and ipywidgets. See https://ipywidgets.readthedocs.io/en/stable/user_install.html\n",
      "  from .autonotebook import tqdm as notebook_tqdm\n"
     ]
    }
   ],
   "source": [
    "import pandas as pd\n",
    "import numpy as np\n",
    "import statsmodels.formula.api as smf\n",
    "from sklearn.neighbors import KNeighborsRegressor\n",
    "from sklearn.linear_model import LogisticRegression\n",
    "from patsy import dmatrix\n",
    "from joblib import Parallel, delayed # for parallel processing\n",
    "from toolz import partial\n",
    "from dowhy import CausalModel\n",
    "\n",
    "import warnings\n",
    "warnings.simplefilter(action='ignore', category=FutureWarning)"
   ]
  },
  {
   "cell_type": "code",
   "execution_count": 3,
   "metadata": {},
   "outputs": [
    {
     "data": {
      "text/html": [
       "<div>\n",
       "<style scoped>\n",
       "    .dataframe tbody tr th:only-of-type {\n",
       "        vertical-align: middle;\n",
       "    }\n",
       "\n",
       "    .dataframe tbody tr th {\n",
       "        vertical-align: top;\n",
       "    }\n",
       "\n",
       "    .dataframe thead th {\n",
       "        text-align: right;\n",
       "    }\n",
       "</style>\n",
       "<table border=\"1\" class=\"dataframe\">\n",
       "  <thead>\n",
       "    <tr style=\"text-align: right;\">\n",
       "      <th></th>\n",
       "      <th>departament_id</th>\n",
       "      <th>intervention</th>\n",
       "      <th>engagement_score</th>\n",
       "      <th>tenure</th>\n",
       "      <th>n_of_reports</th>\n",
       "      <th>gender</th>\n",
       "      <th>role</th>\n",
       "      <th>last_engagement_score</th>\n",
       "      <th>department_score</th>\n",
       "      <th>department_size</th>\n",
       "    </tr>\n",
       "  </thead>\n",
       "  <tbody>\n",
       "    <tr>\n",
       "      <th>0</th>\n",
       "      <td>76</td>\n",
       "      <td>1</td>\n",
       "      <td>0.277359</td>\n",
       "      <td>6</td>\n",
       "      <td>4</td>\n",
       "      <td>2</td>\n",
       "      <td>4</td>\n",
       "      <td>0.614261</td>\n",
       "      <td>0.224077</td>\n",
       "      <td>843</td>\n",
       "    </tr>\n",
       "    <tr>\n",
       "      <th>1</th>\n",
       "      <td>76</td>\n",
       "      <td>1</td>\n",
       "      <td>-0.449646</td>\n",
       "      <td>4</td>\n",
       "      <td>8</td>\n",
       "      <td>2</td>\n",
       "      <td>4</td>\n",
       "      <td>0.069636</td>\n",
       "      <td>0.224077</td>\n",
       "      <td>843</td>\n",
       "    </tr>\n",
       "    <tr>\n",
       "      <th>2</th>\n",
       "      <td>76</td>\n",
       "      <td>1</td>\n",
       "      <td>0.769703</td>\n",
       "      <td>6</td>\n",
       "      <td>4</td>\n",
       "      <td>2</td>\n",
       "      <td>4</td>\n",
       "      <td>0.866918</td>\n",
       "      <td>0.224077</td>\n",
       "      <td>843</td>\n",
       "    </tr>\n",
       "    <tr>\n",
       "      <th>3</th>\n",
       "      <td>76</td>\n",
       "      <td>1</td>\n",
       "      <td>-0.121763</td>\n",
       "      <td>6</td>\n",
       "      <td>4</td>\n",
       "      <td>2</td>\n",
       "      <td>4</td>\n",
       "      <td>0.029071</td>\n",
       "      <td>0.224077</td>\n",
       "      <td>843</td>\n",
       "    </tr>\n",
       "    <tr>\n",
       "      <th>4</th>\n",
       "      <td>76</td>\n",
       "      <td>1</td>\n",
       "      <td>1.526147</td>\n",
       "      <td>6</td>\n",
       "      <td>4</td>\n",
       "      <td>1</td>\n",
       "      <td>4</td>\n",
       "      <td>0.589857</td>\n",
       "      <td>0.224077</td>\n",
       "      <td>843</td>\n",
       "    </tr>\n",
       "  </tbody>\n",
       "</table>\n",
       "</div>"
      ],
      "text/plain": [
       "   departament_id  intervention  engagement_score  tenure  n_of_reports  \\\n",
       "0              76             1          0.277359       6             4   \n",
       "1              76             1         -0.449646       4             8   \n",
       "2              76             1          0.769703       6             4   \n",
       "3              76             1         -0.121763       6             4   \n",
       "4              76             1          1.526147       6             4   \n",
       "\n",
       "   gender  role  last_engagement_score  department_score  department_size  \n",
       "0       2     4               0.614261          0.224077              843  \n",
       "1       2     4               0.069636          0.224077              843  \n",
       "2       2     4               0.866918          0.224077              843  \n",
       "3       2     4               0.029071          0.224077              843  \n",
       "4       1     4               0.589857          0.224077              843  "
      ]
     },
     "execution_count": 3,
     "metadata": {},
     "output_type": "execute_result"
    }
   ],
   "source": [
    "# treatment is intervention, outcome is engagement_score, rest of vars are covariates\n",
    "# reduce or even eliminate the bias when estimating the causal relationship between management training and employee engagement\n",
    "df = pd.read_csv(\"management_training.csv\")\n",
    "df.head()"
   ]
  },
  {
   "cell_type": "code",
   "execution_count": 4,
   "metadata": {},
   "outputs": [
    {
     "data": {
      "image/png": "[encoded data removed]",
      "text/latex": [
       "$\\displaystyle \\left( 10391, \\  10\\right)$"
      ],
      "text/plain": [
       "(10391, 10)"
      ]
     },
     "execution_count": 4,
     "metadata": {},
     "output_type": "execute_result"
    }
   ],
   "source": [
    "df.shape"
   ]
  },
  {
   "cell_type": "code",
   "execution_count": 5,
   "metadata": {},
   "outputs": [
    {
     "data": {
      "text/plain": [
       "departament_id             int64\n",
       "intervention               int64\n",
       "engagement_score         float64\n",
       "tenure                     int64\n",
       "n_of_reports               int64\n",
       "gender                     int64\n",
       "role                       int64\n",
       "last_engagement_score    float64\n",
       "department_score         float64\n",
       "department_size            int64\n",
       "dtype: object"
      ]
     },
     "execution_count": 5,
     "metadata": {},
     "output_type": "execute_result"
    }
   ],
   "source": [
    "df.dtypes"
   ]
  },
  {
   "cell_type": "code",
   "execution_count": 6,
   "metadata": {},
   "outputs": [],
   "source": [
    "# df['intervention'] = df['intervention'].astype('str')\n",
    "df['intervention'] = df['intervention'].astype('bool')"
   ]
  },
  {
   "cell_type": "code",
   "execution_count": 7,
   "metadata": {},
   "outputs": [
    {
     "data": {
      "text/plain": [
       "count    1.039100e+04\n",
       "mean     3.829313e-17\n",
       "std      1.000000e+00\n",
       "min     -3.111431e+00\n",
       "25%     -7.033152e-01\n",
       "50%     -3.449486e-02\n",
       "75%      6.724723e-01\n",
       "max      3.563639e+00\n",
       "Name: engagement_score, dtype: float64"
      ]
     },
     "execution_count": 7,
     "metadata": {},
     "output_type": "execute_result"
    }
   ],
   "source": [
    "df['engagement_score'].describe()"
   ]
  },
  {
   "cell_type": "markdown",
   "metadata": {},
   "source": [
    "#### Naive Estimate of Average Treatment Effect (ATE)"
   ]
  },
  {
   "cell_type": "code",
   "execution_count": 8,
   "metadata": {},
   "outputs": [
    {
     "name": "stdout",
     "output_type": "stream",
     "text": [
      "Treatment Average: 0.1999\n",
      "Control Average: -0.2347\n",
      "Treatment Effect: 0.4346\n"
     ]
    }
   ],
   "source": [
    "treatment_avg = df.loc[df['intervention'] == 1,'engagement_score'].mean()\n",
    "control_avg = df.loc[df['intervention'] == 0,'engagement_score'].mean()\n",
    "\n",
    "print('Treatment Average:', treatment_avg.round(4))\n",
    "print('Control Average:',  control_avg.round(4))\n",
    "print('Treatment Effect:', (treatment_avg - control_avg).round(4))"
   ]
  },
  {
   "cell_type": "markdown",
   "metadata": {},
   "source": [
    "#### Linear Regression Modeling"
   ]
  },
  {
   "cell_type": "code",
   "execution_count": 9,
   "metadata": {},
   "outputs": [],
   "source": [
    "df['intervention'] = df['intervention'].astype('int')"
   ]
  },
  {
   "cell_type": "code",
   "execution_count": 10,
   "metadata": {},
   "outputs": [
    {
     "data": {
      "text/html": [
       "<table class=\"simpletable\">\n",
       "<tr>\n",
       "        <td></td>          <th>coef</th>     <th>std err</th>      <th>t</th>      <th>P>|t|</th>  <th>[0.025</th>    <th>0.975]</th>  \n",
       "</tr>\n",
       "<tr>\n",
       "  <th>Intercept</th>    <td>   -0.2347</td> <td>    0.014</td> <td>  -16.619</td> <td> 0.000</td> <td>   -0.262</td> <td>   -0.207</td>\n",
       "</tr>\n",
       "<tr>\n",
       "  <th>intervention</th> <td>    0.4346</td> <td>    0.019</td> <td>   22.616</td> <td> 0.000</td> <td>    0.397</td> <td>    0.472</td>\n",
       "</tr>\n",
       "</table>"
      ],
      "text/plain": [
       "<class 'statsmodels.iolib.table.SimpleTable'>"
      ]
     },
     "execution_count": 10,
     "metadata": {},
     "output_type": "execute_result"
    }
   ],
   "source": [
    "# simple model comparing treatment vs. control\n",
    "smf.ols(\"engagement_score ~ intervention\",data=df).fit().summary().tables[1]"
   ]
  },
  {
   "cell_type": "code",
   "execution_count": 11,
   "metadata": {},
   "outputs": [
    {
     "name": "stdout",
     "output_type": "stream",
     "text": [
      "ATE: 0.26779085766768534\n",
      "95% CI: [0.23357751 0.30200421]\n"
     ]
    }
   ],
   "source": [
    "# full regression model\n",
    "# much smaller ATE than previous simple model\n",
    "model = smf.ols(\"\"\"engagement_score ~ intervention + tenure + last_engagement_score + department_score + n_of_reports + C(gender) + C(role)\"\"\", data=df).fit()\n",
    "\n",
    "print(\"ATE:\", model.params[\"intervention\"])\n",
    "print(\"95% CI:\", model.conf_int().loc[\"intervention\", :].values.T)"
   ]
  },
  {
   "cell_type": "markdown",
   "metadata": {},
   "source": [
    "#### Propensity Score Weighting"
   ]
  },
  {
   "cell_type": "code",
   "execution_count": 12,
   "metadata": {},
   "outputs": [],
   "source": [
    "# propensity score model\n",
    "ps_model = smf.logit(\"\"\"intervention ~ tenure + last_engagement_score + department_score + C(n_of_reports) + C(gender) + C(role)\"\"\", data=df).fit(disp=0)"
   ]
  },
  {
   "cell_type": "code",
   "execution_count": 13,
   "metadata": {},
   "outputs": [
    {
     "data": {
      "text/html": [
       "<div>\n",
       "<style scoped>\n",
       "    .dataframe tbody tr th:only-of-type {\n",
       "        vertical-align: middle;\n",
       "    }\n",
       "\n",
       "    .dataframe tbody tr th {\n",
       "        vertical-align: top;\n",
       "    }\n",
       "\n",
       "    .dataframe thead th {\n",
       "        text-align: right;\n",
       "    }\n",
       "</style>\n",
       "<table border=\"1\" class=\"dataframe\">\n",
       "  <thead>\n",
       "    <tr style=\"text-align: right;\">\n",
       "      <th></th>\n",
       "      <th>intervention</th>\n",
       "      <th>engagement_score</th>\n",
       "      <th>propensity_score</th>\n",
       "    </tr>\n",
       "  </thead>\n",
       "  <tbody>\n",
       "    <tr>\n",
       "      <th>0</th>\n",
       "      <td>1</td>\n",
       "      <td>0.277359</td>\n",
       "      <td>0.596106</td>\n",
       "    </tr>\n",
       "    <tr>\n",
       "      <th>1</th>\n",
       "      <td>1</td>\n",
       "      <td>-0.449646</td>\n",
       "      <td>0.391138</td>\n",
       "    </tr>\n",
       "    <tr>\n",
       "      <th>2</th>\n",
       "      <td>1</td>\n",
       "      <td>0.769703</td>\n",
       "      <td>0.602578</td>\n",
       "    </tr>\n",
       "    <tr>\n",
       "      <th>3</th>\n",
       "      <td>1</td>\n",
       "      <td>-0.121763</td>\n",
       "      <td>0.580990</td>\n",
       "    </tr>\n",
       "    <tr>\n",
       "      <th>4</th>\n",
       "      <td>1</td>\n",
       "      <td>1.526147</td>\n",
       "      <td>0.619976</td>\n",
       "    </tr>\n",
       "  </tbody>\n",
       "</table>\n",
       "</div>"
      ],
      "text/plain": [
       "   intervention  engagement_score  propensity_score\n",
       "0             1          0.277359          0.596106\n",
       "1             1         -0.449646          0.391138\n",
       "2             1          0.769703          0.602578\n",
       "3             1         -0.121763          0.580990\n",
       "4             1          1.526147          0.619976"
      ]
     },
     "execution_count": 13,
     "metadata": {},
     "output_type": "execute_result"
    }
   ],
   "source": [
    "# propensity scores\n",
    "data_ps = df.assign(propensity_score = ps_model.predict(df),)\n",
    "data_ps[[\"intervention\", \"engagement_score\", \"propensity_score\"]].head()"
   ]
  },
  {
   "cell_type": "code",
   "execution_count": 14,
   "metadata": {},
   "outputs": [
    {
     "data": {
      "image/png": "[encoded data removed]",
      "text/latex": [
       "$\\displaystyle \\left( 10391, \\  11\\right)$"
      ],
      "text/plain": [
       "(10391, 11)"
      ]
     },
     "execution_count": 14,
     "metadata": {},
     "output_type": "execute_result"
    }
   ],
   "source": [
    "data_ps.shape"
   ]
  },
  {
   "cell_type": "code",
   "execution_count": 15,
   "metadata": {},
   "outputs": [
    {
     "data": {
      "image/png": "[encoded data removed]",
      "text/latex": [
       "$\\displaystyle 0.263312674902777$"
      ],
      "text/plain": [
       "0.2633126749027768"
      ]
     },
     "execution_count": 15,
     "metadata": {},
     "output_type": "execute_result"
    }
   ],
   "source": [
    "# adding propensity_score var to simple regression model to avoid adjusting for the confounders of X\n",
    "# ATE is very similar to full model\n",
    "model = smf.ols(\"engagement_score ~ intervention + propensity_score\",data=data_ps).fit()\n",
    "model.params[\"intervention\"]"
   ]
  },
  {
   "cell_type": "markdown",
   "metadata": {},
   "source": [
    "#### Propensity Score Matching"
   ]
  },
  {
   "cell_type": "code",
   "execution_count": 16,
   "metadata": {},
   "outputs": [
    {
     "data": {
      "text/html": [
       "<div>\n",
       "<style scoped>\n",
       "    .dataframe tbody tr th:only-of-type {\n",
       "        vertical-align: middle;\n",
       "    }\n",
       "\n",
       "    .dataframe tbody tr th {\n",
       "        vertical-align: top;\n",
       "    }\n",
       "\n",
       "    .dataframe thead th {\n",
       "        text-align: right;\n",
       "    }\n",
       "</style>\n",
       "<table border=\"1\" class=\"dataframe\">\n",
       "  <thead>\n",
       "    <tr style=\"text-align: right;\">\n",
       "      <th></th>\n",
       "      <th>departament_id</th>\n",
       "      <th>intervention</th>\n",
       "      <th>engagement_score</th>\n",
       "      <th>tenure</th>\n",
       "      <th>n_of_reports</th>\n",
       "      <th>gender</th>\n",
       "      <th>role</th>\n",
       "      <th>last_engagement_score</th>\n",
       "      <th>department_score</th>\n",
       "      <th>department_size</th>\n",
       "      <th>propensity_score</th>\n",
       "      <th>match</th>\n",
       "    </tr>\n",
       "  </thead>\n",
       "  <tbody>\n",
       "    <tr>\n",
       "      <th>0</th>\n",
       "      <td>76</td>\n",
       "      <td>1</td>\n",
       "      <td>0.277359</td>\n",
       "      <td>6</td>\n",
       "      <td>4</td>\n",
       "      <td>2</td>\n",
       "      <td>4</td>\n",
       "      <td>0.614261</td>\n",
       "      <td>0.224077</td>\n",
       "      <td>843</td>\n",
       "      <td>0.596106</td>\n",
       "      <td>0.557680</td>\n",
       "    </tr>\n",
       "    <tr>\n",
       "      <th>1</th>\n",
       "      <td>76</td>\n",
       "      <td>1</td>\n",
       "      <td>-0.449646</td>\n",
       "      <td>4</td>\n",
       "      <td>8</td>\n",
       "      <td>2</td>\n",
       "      <td>4</td>\n",
       "      <td>0.069636</td>\n",
       "      <td>0.224077</td>\n",
       "      <td>843</td>\n",
       "      <td>0.391138</td>\n",
       "      <td>-0.952622</td>\n",
       "    </tr>\n",
       "    <tr>\n",
       "      <th>2</th>\n",
       "      <td>76</td>\n",
       "      <td>1</td>\n",
       "      <td>0.769703</td>\n",
       "      <td>6</td>\n",
       "      <td>4</td>\n",
       "      <td>2</td>\n",
       "      <td>4</td>\n",
       "      <td>0.866918</td>\n",
       "      <td>0.224077</td>\n",
       "      <td>843</td>\n",
       "      <td>0.602578</td>\n",
       "      <td>-0.618381</td>\n",
       "    </tr>\n",
       "    <tr>\n",
       "      <th>3</th>\n",
       "      <td>76</td>\n",
       "      <td>1</td>\n",
       "      <td>-0.121763</td>\n",
       "      <td>6</td>\n",
       "      <td>4</td>\n",
       "      <td>2</td>\n",
       "      <td>4</td>\n",
       "      <td>0.029071</td>\n",
       "      <td>0.224077</td>\n",
       "      <td>843</td>\n",
       "      <td>0.580990</td>\n",
       "      <td>-1.404962</td>\n",
       "    </tr>\n",
       "    <tr>\n",
       "      <th>4</th>\n",
       "      <td>76</td>\n",
       "      <td>1</td>\n",
       "      <td>1.526147</td>\n",
       "      <td>6</td>\n",
       "      <td>4</td>\n",
       "      <td>1</td>\n",
       "      <td>4</td>\n",
       "      <td>0.589857</td>\n",
       "      <td>0.224077</td>\n",
       "      <td>843</td>\n",
       "      <td>0.619976</td>\n",
       "      <td>0.000354</td>\n",
       "    </tr>\n",
       "  </tbody>\n",
       "</table>\n",
       "</div>"
      ],
      "text/plain": [
       "   departament_id  intervention  engagement_score  tenure  n_of_reports  \\\n",
       "0              76             1          0.277359       6             4   \n",
       "1              76             1         -0.449646       4             8   \n",
       "2              76             1          0.769703       6             4   \n",
       "3              76             1         -0.121763       6             4   \n",
       "4              76             1          1.526147       6             4   \n",
       "\n",
       "   gender  role  last_engagement_score  department_score  department_size  \\\n",
       "0       2     4               0.614261          0.224077              843   \n",
       "1       2     4               0.069636          0.224077              843   \n",
       "2       2     4               0.866918          0.224077              843   \n",
       "3       2     4               0.029071          0.224077              843   \n",
       "4       1     4               0.589857          0.224077              843   \n",
       "\n",
       "   propensity_score     match  \n",
       "0          0.596106  0.557680  \n",
       "1          0.391138 -0.952622  \n",
       "2          0.602578 -0.618381  \n",
       "3          0.580990 -1.404962  \n",
       "4          0.619976  0.000354  "
      ]
     },
     "execution_count": 16,
     "metadata": {},
     "output_type": "execute_result"
    }
   ],
   "source": [
    "\n",
    "\n",
    "T = \"intervention\"\n",
    "X = \"propensity_score\"\n",
    "Y = \"engagement_score\"\n",
    "\n",
    "treated = data_ps.query(f\"{T}==1\")\n",
    "untreated = data_ps.query(f\"{T}==0\")\n",
    "\n",
    "# KNeighborsRegressor regression based on KNN\n",
    "# find the nearest 1 n_neighbors match, KNN model with propensity_score as only feature to predict engagement_score\n",
    "\n",
    "# control data model\n",
    "mt0 = KNeighborsRegressor(n_neighbors=1).fit(untreated[[X]],untreated[Y])\n",
    "\n",
    "# treatment data model\n",
    "mt1 = KNeighborsRegressor(n_neighbors=1).fit(treated[[X]],treated[Y])\n",
    "\n",
    "predicted = pd.concat([\n",
    "    # find matches for the treated looking at the untreated knn model, match is the prediction of engagement_score for each row\n",
    "    treated.assign(match=mt0.predict(treated[[X]])), # assign new cols to df (match col)\n",
    "    \n",
    "    # find matches for the untreated looking at the treated knn model\n",
    "    untreated.assign(match=mt1.predict(untreated[[X]]))\n",
    "])\n",
    "\n",
    "predicted.head()"
   ]
  },
  {
   "cell_type": "code",
   "execution_count": 17,
   "metadata": {},
   "outputs": [
    {
     "data": {
      "text/html": [
       "<div>\n",
       "<style scoped>\n",
       "    .dataframe tbody tr th:only-of-type {\n",
       "        vertical-align: middle;\n",
       "    }\n",
       "\n",
       "    .dataframe tbody tr th {\n",
       "        vertical-align: top;\n",
       "    }\n",
       "\n",
       "    .dataframe thead th {\n",
       "        text-align: right;\n",
       "    }\n",
       "</style>\n",
       "<table border=\"1\" class=\"dataframe\">\n",
       "  <thead>\n",
       "    <tr style=\"text-align: right;\">\n",
       "      <th></th>\n",
       "      <th>departament_id</th>\n",
       "      <th>intervention</th>\n",
       "      <th>engagement_score</th>\n",
       "      <th>tenure</th>\n",
       "      <th>n_of_reports</th>\n",
       "      <th>gender</th>\n",
       "      <th>role</th>\n",
       "      <th>last_engagement_score</th>\n",
       "      <th>department_score</th>\n",
       "      <th>department_size</th>\n",
       "      <th>propensity_score</th>\n",
       "      <th>match</th>\n",
       "    </tr>\n",
       "  </thead>\n",
       "  <tbody>\n",
       "    <tr>\n",
       "      <th>2</th>\n",
       "      <td>76</td>\n",
       "      <td>1</td>\n",
       "      <td>0.769703</td>\n",
       "      <td>6</td>\n",
       "      <td>4</td>\n",
       "      <td>2</td>\n",
       "      <td>4</td>\n",
       "      <td>0.866918</td>\n",
       "      <td>0.224077</td>\n",
       "      <td>843</td>\n",
       "      <td>0.602578</td>\n",
       "      <td>-0.618381</td>\n",
       "    </tr>\n",
       "  </tbody>\n",
       "</table>\n",
       "</div>"
      ],
      "text/plain": [
       "   departament_id  intervention  engagement_score  tenure  n_of_reports  \\\n",
       "2              76             1          0.769703       6             4   \n",
       "\n",
       "   gender  role  last_engagement_score  department_score  department_size  \\\n",
       "2       2     4               0.866918          0.224077              843   \n",
       "\n",
       "   propensity_score     match  \n",
       "2          0.602578 -0.618381  "
      ]
     },
     "execution_count": 17,
     "metadata": {},
     "output_type": "execute_result"
    }
   ],
   "source": [
    "predicted.loc[predicted['engagement_score'] == predicted['engagement_score'][2],:]\n",
    "# predicted.head()\n",
    "# predicted['engagement_score'].head()"
   ]
  },
  {
   "cell_type": "code",
   "execution_count": 18,
   "metadata": {},
   "outputs": [
    {
     "data": {
      "text/html": [
       "<div>\n",
       "<style scoped>\n",
       "    .dataframe tbody tr th:only-of-type {\n",
       "        vertical-align: middle;\n",
       "    }\n",
       "\n",
       "    .dataframe tbody tr th {\n",
       "        vertical-align: top;\n",
       "    }\n",
       "\n",
       "    .dataframe thead th {\n",
       "        text-align: right;\n",
       "    }\n",
       "</style>\n",
       "<table border=\"1\" class=\"dataframe\">\n",
       "  <thead>\n",
       "    <tr style=\"text-align: right;\">\n",
       "      <th></th>\n",
       "      <th>departament_id</th>\n",
       "      <th>intervention</th>\n",
       "      <th>engagement_score</th>\n",
       "      <th>tenure</th>\n",
       "      <th>n_of_reports</th>\n",
       "      <th>gender</th>\n",
       "      <th>role</th>\n",
       "      <th>last_engagement_score</th>\n",
       "      <th>department_score</th>\n",
       "      <th>department_size</th>\n",
       "      <th>propensity_score</th>\n",
       "      <th>match</th>\n",
       "    </tr>\n",
       "  </thead>\n",
       "  <tbody>\n",
       "    <tr>\n",
       "      <th>4993</th>\n",
       "      <td>63</td>\n",
       "      <td>0</td>\n",
       "      <td>1.111142</td>\n",
       "      <td>6</td>\n",
       "      <td>2</td>\n",
       "      <td>2</td>\n",
       "      <td>4</td>\n",
       "      <td>0.956035</td>\n",
       "      <td>0.196662</td>\n",
       "      <td>389</td>\n",
       "      <td>0.602594</td>\n",
       "      <td>0.769703</td>\n",
       "    </tr>\n",
       "    <tr>\n",
       "      <th>5698</th>\n",
       "      <td>58</td>\n",
       "      <td>0</td>\n",
       "      <td>0.180531</td>\n",
       "      <td>6</td>\n",
       "      <td>4</td>\n",
       "      <td>1</td>\n",
       "      <td>1</td>\n",
       "      <td>-0.349523</td>\n",
       "      <td>-0.946657</td>\n",
       "      <td>1732</td>\n",
       "      <td>0.602602</td>\n",
       "      <td>0.769703</td>\n",
       "    </tr>\n",
       "    <tr>\n",
       "      <th>7128</th>\n",
       "      <td>37</td>\n",
       "      <td>0</td>\n",
       "      <td>-0.618381</td>\n",
       "      <td>6</td>\n",
       "      <td>4</td>\n",
       "      <td>1</td>\n",
       "      <td>1</td>\n",
       "      <td>-0.173646</td>\n",
       "      <td>-0.045722</td>\n",
       "      <td>530</td>\n",
       "      <td>0.602567</td>\n",
       "      <td>0.769703</td>\n",
       "    </tr>\n",
       "  </tbody>\n",
       "</table>\n",
       "</div>"
      ],
      "text/plain": [
       "      departament_id  intervention  engagement_score  tenure  n_of_reports  \\\n",
       "4993              63             0          1.111142       6             2   \n",
       "5698              58             0          0.180531       6             4   \n",
       "7128              37             0         -0.618381       6             4   \n",
       "\n",
       "      gender  role  last_engagement_score  department_score  department_size  \\\n",
       "4993       2     4               0.956035          0.196662              389   \n",
       "5698       1     1              -0.349523         -0.946657             1732   \n",
       "7128       1     1              -0.173646         -0.045722              530   \n",
       "\n",
       "      propensity_score     match  \n",
       "4993          0.602594  0.769703  \n",
       "5698          0.602602  0.769703  \n",
       "7128          0.602567  0.769703  "
      ]
     },
     "execution_count": 18,
     "metadata": {},
     "output_type": "execute_result"
    }
   ],
   "source": [
    "predicted.loc[predicted['match'] == predicted['engagement_score'][2],:]"
   ]
  },
  {
   "cell_type": "code",
   "execution_count": 19,
   "metadata": {},
   "outputs": [
    {
     "data": {
      "image/png": "[encoded data removed]",
      "text/latex": [
       "$\\displaystyle 0.28777443474046$"
      ],
      "text/plain": [
       "0.28777443474045966"
      ]
     },
     "execution_count": 19,
     "metadata": {},
     "output_type": "execute_result"
    }
   ],
   "source": [
    "# Every unit is matched, now find estimated ATE\n",
    "# (Y - Y_Predicted) * Intervention + (Y_Predicted - Y) * (1 - Intervention)\n",
    "np.mean((predicted[Y] - predicted[\"match\"])*predicted[T] + (predicted[\"match\"] - predicted[Y])*(1-predicted[T]))"
   ]
  },
  {
   "cell_type": "markdown",
   "metadata": {},
   "source": [
    "#### Inverse Propensity Weighting"
   ]
  },
  {
   "cell_type": "code",
   "execution_count": 20,
   "metadata": {},
   "outputs": [
    {
     "name": "stdout",
     "output_type": "stream",
     "text": [
      "E[Y1]: 0.11656317232946753\n",
      "E[Y0]: -0.1494155364781441\n",
      "ATE 0.26597870880761165\n"
     ]
    }
   ],
   "source": [
    "weight_t = 1/data_ps.query(\"intervention==1\")[\"propensity_score\"]\n",
    "weight_nt = 1/(1-data_ps.query(\"intervention==0\")[\"propensity_score\"])\n",
    "t1 = data_ps.query(\"intervention==1\")[\"engagement_score\"] \n",
    "t0 = data_ps.query(\"intervention==0\")[\"engagement_score\"] \n",
    "\n",
    "y1 = sum(t1*weight_t)/len(data_ps)\n",
    "y0 = sum(t0*weight_nt)/len(data_ps)\n",
    "\n",
    "print(\"E[Y1]:\", y1)\n",
    "print(\"E[Y0]:\", y0)\n",
    "print(\"ATE\", y1 - y0)"
   ]
  },
  {
   "cell_type": "code",
   "execution_count": 21,
   "metadata": {},
   "outputs": [
    {
     "data": {
      "image/png": "[encoded data removed]",
      "text/latex": [
       "$\\displaystyle 0.265978708807612$"
      ],
      "text/plain": [
       "0.26597870880761193"
      ]
     },
     "execution_count": 21,
     "metadata": {},
     "output_type": "execute_result"
    }
   ],
   "source": [
    "# Alternative ATE calculation\n",
    "np.mean(data_ps[\"engagement_score\"] * (data_ps[\"intervention\"] - data_ps[\"propensity_score\"]) / (data_ps[\"propensity_score\"]*(1-data_ps[\"propensity_score\"])))"
   ]
  },
  {
   "cell_type": "code",
   "execution_count": 22,
   "metadata": {},
   "outputs": [],
   "source": [
    "# Unfortunately, computing the standard error for IPW is not as straightforward as with linear regression. \n",
    "# The most straightforward way to obtain a confidence interval around your IPW estimate is by using the bootstrap method. \n",
    "# With this method, you will repeatedly resample the data with replacement to obtain multiple IPW estimators. \n",
    "# You can then calculate the 2.5th and 97.5th percentiles of these estimates to obtain a 95% confidence interval."
   ]
  },
  {
   "cell_type": "code",
   "execution_count": 23,
   "metadata": {},
   "outputs": [],
   "source": [
    "# define function that computes the IPW estimator\n",
    "def est_ate_with_ps(df, ps_formula, T, Y):\n",
    "    \n",
    "    X = dmatrix(ps_formula, df)\n",
    "    ps_model = LogisticRegression(penalty=\"l2\",max_iter=1000).fit(X, df[T])\n",
    "    ps = ps_model.predict_proba(X)[:, 1]\n",
    "    \n",
    "    # compute the ATE\n",
    "    return np.mean((df[T]-ps) / (ps*(1-ps)) * df[Y]) "
   ]
  },
  {
   "cell_type": "code",
   "execution_count": 24,
   "metadata": {},
   "outputs": [
    {
     "data": {
      "image/png": "[encoded data removed]",
      "text/latex": [
       "$\\displaystyle 0.266235040250796$"
      ],
      "text/plain": [
       "0.2662350402507956"
      ]
     },
     "execution_count": 24,
     "metadata": {},
     "output_type": "execute_result"
    }
   ],
   "source": [
    "formula = \"\"\"tenure + last_engagement_score + department_score+ C(n_of_reports) + C(gender) + C(role)\"\"\" \n",
    "T = \"intervention\"\n",
    "Y = \"engagement_score\"\n",
    "\n",
    "est_ate_with_ps(df, formula, T, Y)"
   ]
  },
  {
   "cell_type": "code",
   "execution_count": 25,
   "metadata": {},
   "outputs": [],
   "source": [
    "def bootstrap(data, est_fn, rounds=200, seed=123, pcts=[2.5, 97.5]):\n",
    "    np.random.seed(seed)\n",
    "    \n",
    "    stats = Parallel(n_jobs=4)(\n",
    "        delayed(est_fn)(data.sample(frac=1, replace=True))\n",
    "        for _ in range(rounds)\n",
    "    )\n",
    "    \n",
    "    return np.percentile(stats, pcts)"
   ]
  },
  {
   "cell_type": "code",
   "execution_count": 26,
   "metadata": {},
   "outputs": [],
   "source": [
    "def addNumber(x, number):\n",
    "    return x + number\n",
    "\n",
    "add2 = partial(addNumber, number=2)\n",
    "add4 = partial(addNumber, number=4)"
   ]
  },
  {
   "cell_type": "code",
   "execution_count": 27,
   "metadata": {},
   "outputs": [
    {
     "data": {
      "image/png": "[encoded data removed]",
      "text/latex": [
       "$\\displaystyle 7$"
      ],
      "text/plain": [
       "7"
      ]
     },
     "execution_count": 27,
     "metadata": {},
     "output_type": "execute_result"
    }
   ],
   "source": [
    "# add2(3)\n",
    "add4(3)"
   ]
  },
  {
   "cell_type": "code",
   "execution_count": 28,
   "metadata": {},
   "outputs": [
    {
     "name": "stdout",
     "output_type": "stream",
     "text": [
      "ATE: 0.2662350402507956\n",
      "95% C.I.:  [0.22654202 0.30087918]\n"
     ]
    }
   ],
   "source": [
    "from toolz import partial\n",
    "\n",
    "print(f\"ATE: {est_ate_with_ps(df, formula, T, Y)}\")\n",
    "\n",
    "est_fn = partial(est_ate_with_ps, ps_formula=formula, T=T, Y=Y)\n",
    "print(f\"95% C.I.: \", bootstrap(df, est_fn))"
   ]
  }
 ],
 "metadata": {
  "kernelspec": {
   "display_name": "datascience4",
   "language": "python",
   "name": "python3"
  },
  "language_info": {
   "codemirror_mode": {
    "name": "ipython",
    "version": 3
   },
   "file_extension": ".py",
   "mimetype": "text/x-python",
   "name": "python",
   "nbconvert_exporter": "python",
   "pygments_lexer": "ipython3",
   "version": "3.11.8"
  },
  "orig_nbformat": 4
 },
 "nbformat": 4,
 "nbformat_minor": 2
}
